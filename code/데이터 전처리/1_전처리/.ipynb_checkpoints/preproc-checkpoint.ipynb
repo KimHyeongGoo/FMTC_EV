{
 "cells": [
  {
   "cell_type": "code",
   "execution_count": 13,
   "metadata": {},
   "outputs": [],
   "source": [
    "import os\n",
    "import pandas as pd\n",
    "import sys\n",
    "from collections import defaultdict\n",
    "import numpy as np\n",
    "import time\n",
    "import datetime\n",
    "import re\n",
    "import shutil"
   ]
  },
  {
   "cell_type": "markdown",
   "metadata": {},
   "source": [
    "## 인자값 입력\n",
    "\n",
    "### 1) 전처리할 파일들이 있는 디렉토리 경로\n",
    "### 4) 출력파일 디렉토리 경로"
   ]
  },
  {
   "cell_type": "code",
   "execution_count": 14,
   "metadata": {},
   "outputs": [],
   "source": [
    "# 데이터 파일 디렉토리 경로\n",
    "data_path = './data'\n",
    "# 출력 파일 경로\n",
    "out_path = './out'\n",
    "\n",
    "if data_path[-1] == '/':\n",
    "    data_path = data_path[:-1]\n",
    "if out_path[-1] == '/':\n",
    "    out_path = out_path[:-1]"
   ]
  },
  {
   "cell_type": "markdown",
   "metadata": {},
   "source": [
    "## (사용자 설정 디렉토리 내) 전처리대상 파일 리스트 자동 추출"
   ]
  },
  {
   "cell_type": "code",
   "execution_count": 15,
   "metadata": {},
   "outputs": [
    {
     "name": "stdout",
     "output_type": "stream",
     "text": [
      "CSV 파일 목록 불러오는 중..\n",
      "총 CSV파일 수 : 10\n"
     ]
    }
   ],
   "source": [
    "def recursive_search_dir(_nowDir, _filelist):\n",
    "    dir_list = []  # 현재 디렉토리의 서브디렉토리가 담길 list\n",
    "    f_list = os.listdir(_nowDir)\n",
    "    for fname in f_list:\n",
    "        if fname == \"checked_files\" or fname == \"result_files\":  # 이미 전처리한 폴더는 통과\n",
    "            continue\n",
    "        if os.path.isdir(_nowDir + \"/\" + fname):\n",
    "            dir_list.append(_nowDir + \"/\" + fname)\n",
    "        elif os.path.isfile(_nowDir + \"/\" + fname):\n",
    "            file_extension = os.path.splitext(fname)[1]\n",
    "            if file_extension == \".csv\" or file_extension == \".CSV\":  # csv\n",
    "                _filelist.append(_nowDir + \"/\" + fname)\n",
    "\n",
    "    for toDir in dir_list:\n",
    "        recursive_search_dir(toDir, _filelist)\n",
    "        \n",
    "csv_list = []\n",
    "print('CSV 파일 목록 불러오는 중..')\n",
    "recursive_search_dir(data_path, csv_list)\n",
    "print('총 CSV파일 수 : {}'.format(len(csv_list)))"
   ]
  },
  {
   "cell_type": "markdown",
   "metadata": {},
   "source": [
    "## 데이터 전처리 및 규격화"
   ]
  },
  {
   "cell_type": "code",
   "execution_count": 16,
   "metadata": {},
   "outputs": [
    {
     "name": "stdout",
     "output_type": "stream",
     "text": [
      "\n",
      "CSV 파일 2차 전처리 중..\n",
      "Progress |██████████████████████████████████████████████████| 100.0% Complete\n"
     ]
    }
   ],
   "source": [
    "def printProgressBar(iteration, total, prefix = 'Progress', suffix = 'Complete',\\\n",
    "                      decimals = 1, length = 50, fill = '█'): \n",
    "    # 작업의 진행상황을 표시\n",
    "    percent = (\"{0:.\" + str(decimals) + \"f}\").format(100 * (iteration / float(total)))\n",
    "    filledLength = int(length * iteration // total)\n",
    "    bar = fill * filledLength + '-' * (length - filledLength)\n",
    "    print('\\r%s |%s| %s%% %s' %(prefix, bar, percent, suffix), end='\\r')\n",
    "    sys.stdout.flush()\n",
    "    if iteration == total:\n",
    "        print()\n",
    "\n",
    "\n",
    "def preprocessing(csv_file, csv_path, out_path):\n",
    "\n",
    "    skip_rows = 0\n",
    "    total_lines = 0\n",
    "    batch_size = 50000  # 500,000으로 설정 시, 메모리 부족 오류 발생 (해당 서버 정보: 코어개수 16, Ram: 8G, 사용 CPU 수: 5)\n",
    "    isError=False\n",
    "    cols = []\n",
    "    while True:\n",
    "        try:\n",
    "            if len(cols) == 0:\n",
    "                df = pd.read_csv(csv_file, low_memory=False, skiprows=skip_rows, nrows=batch_size)\n",
    "            else:\n",
    "                df = pd.read_csv(csv_file, low_memory=False, names=cols, header=None, skiprows=skip_rows, nrows=batch_size)\n",
    "\n",
    "            for field in df.columns:\n",
    "                if 'Unnamed: ' in field:\n",
    "                    df.drop(columns = field, inplace=True)\n",
    "        except Exception as e:\n",
    "            if str(e).startswith('No columns to parse from file'):\n",
    "                break\n",
    "            else:\n",
    "                print('\\n')\n",
    "                print(csv_file)\n",
    "                print(e)\n",
    "                isError=True\n",
    "                break\n",
    "\n",
    "        if len(df) == 0:\n",
    "            break\n",
    "        else:\n",
    "            total_lines += len(df)\n",
    "            skip_rows += batch_size\n",
    "\n",
    "            # 필드명을 모두 소문자로 변환 (사유: 22년 6월 데이터부터, 필드명이 대문자로 바뀜. 이전 데이터와 통일하기 위해.)\n",
    "            df.rename(mapper=str.lower, axis='columns', inplace=True)\n",
    "        try:\n",
    "            df.sort_values(by='coll_dt', inplace=True)\n",
    "            df.reset_index(drop=True, inplace=True)\n",
    "        except Exception as e:\n",
    "            print('\\n')\n",
    "            print(csv_file)\n",
    "            print(e)\n",
    "            isError=True\n",
    "            break\n",
    "        cols = list(df.columns)\n",
    "\n",
    "        # 날짜, 시간 형식에서 'T', 'Z' 문자 제거 ('T', 'Z' 포함되는 것은 ISO 8601 형태이며, 데이터 통일을 위해 문자 제거)\n",
    "        df['coll_dt'] = df['coll_dt'].str.replace('T', ' ').str.replace('Z', '')\n",
    "\n",
    "        for i in range(len(df)):\n",
    "            df_curr_row = df.iloc[i]\n",
    "\n",
    "            # 오류 값 처리\n",
    "            for field in df.columns:\n",
    "                val = df_curr_row.loc[field]\n",
    "        \n",
    "                try:\n",
    "                    val = float(val)\n",
    "                except:\n",
    "                    continue\n",
    "\n",
    "                # soc 필드인 경우, 값이 0~100을 벗어나면 오류값이므로 NaN값으로 변경\n",
    "                if 'soc' in field:\n",
    "                    if val < 0 or val > 100:\n",
    "                        df.loc[df.index[i], field] = np.nan\n",
    "                    continue\n",
    "\n",
    "                # 전압 필드인 경우, 값이 3,000 초과이면 오류값으로 판단 NaN값으로 변경\n",
    "                if '_volt' in field:\n",
    "                    if val > 3000:\n",
    "                        df.loc[df.index[i], field] = np.nan\n",
    "                    continue\n",
    "\n",
    "                # 온도 필드인 경우, 값이 -35 미만 또는 +80 초과이면 오류값으로 판단 NaN값으로 변경\n",
    "                if '_temp' in field:\n",
    "                    if val < -35 or val > 80:\n",
    "                        df.loc[df.index[i], field] = np.nan\n",
    "                    continue\n",
    "\n",
    "                # 전류 필드인 경우, 값이 -500 미만 또는 +500 초과이면 오류값으로 판단 NaN값으로 변경\n",
    "                if 'b_pack_current' in field:\n",
    "                    if val < -500 or val > 500:\n",
    "                        df.loc[df.index[i], field] = np.nan\n",
    "                    continue\n",
    "\n",
    "                # 차량 속도 필드인 경우, 값이 0 미만 또는 180 초과이면 오류값으로 판단 NaN값으로 변경\n",
    "                if 'car_speed' in field:\n",
    "                    if val < 0 or val > 180:\n",
    "                        df.loc[df.index[i], field] = np.nan\n",
    "                    continue\n",
    "\n",
    "                # 배터리 전압 필드인 경우, 값이 0 미만 또는 6 초과이면 오류값으로 판단 NaN값으로 변경\n",
    "                if field.startswith('b_cell') and field.endswith('_volt'):\n",
    "                    if val < 1 or val > 6:\n",
    "                        df.loc[df.index[i], field] = np.nan\n",
    "                    continue\n",
    "\n",
    "                # 누적 관련 양 값들이 1,000,000 초과이면 오류값으로 판단 NaN값으로 변경\n",
    "                if 'b_accum' in field:\n",
    "                    if val > 1000000:\n",
    "                        df.loc[df.index[i], field] = np.nan\n",
    "                    continue\n",
    "\n",
    "                # 누적주행거리 필드인 경우, 값이 0 이하 또는 2,000,000 초과이면 오류값으로 판단 NaN값으로 변경\n",
    "                if 'mileage' in field:\n",
    "                    if val <= 0 or val > 2000000:\n",
    "                        df.loc[df.index[i], field] = np.nan\n",
    "\n",
    "        # csv 파일에 저장\n",
    "        subpath = '/'.join(list((csv_file.split(csv_path)[-1]).split('/'))[:-1])\n",
    "        if len(subpath) == 0:\n",
    "            subpath = '.'\n",
    "        result_path = out_path + '/' + subpath + '/'\n",
    "        if not os.path.isdir(result_path):\n",
    "            os.makedirs(result_path)\n",
    "        file_name = csv_file.split('/')[-1]\n",
    "        if os.path.isfile(result_path + file_name):\n",
    "            df.to_csv(result_path + file_name, mode='a', header=False, index=False)\n",
    "        else:\n",
    "            df.to_csv(result_path + file_name, mode='w', header=True, index=False)\n",
    "    return total_lines\n",
    "\n",
    "\n",
    "\n",
    "print('\\nCSV 파일 2차 전처리 중..')\n",
    "cnt=0\n",
    "for csv_file in csv_list:\n",
    "    printProgressBar(cnt, len(csv_list))\n",
    "    preprocessing(csv_file, data_path, out_path)\n",
    "    cnt+=1\n",
    "printProgressBar(cnt, len(csv_list))\n"
   ]
  },
  {
   "cell_type": "markdown",
   "metadata": {},
   "source": [
    "## 출력 파일 다운로드"
   ]
  },
  {
   "cell_type": "code",
   "execution_count": 6,
   "metadata": {},
   "outputs": [
    {
     "data": {
      "text/html": [
       "<a href='out.zip' target='_blank'>out.zip</a><br>"
      ],
      "text/plain": [
       "/home/srjung/sw/preproc/2_data_preproc/out.zip"
      ]
     },
     "execution_count": 6,
     "metadata": {},
     "output_type": "execute_result"
    }
   ],
   "source": [
    "shutil.make_archive('out', 'zip', out_path)\n",
    "from IPython.display import FileLink\n",
    "FileLink('out.zip')"
   ]
  },
  {
   "cell_type": "code",
   "execution_count": null,
   "metadata": {},
   "outputs": [],
   "source": []
  }
 ],
 "metadata": {
  "kernelspec": {
   "display_name": "Python 3 (ipykernel)",
   "language": "python",
   "name": "python3"
  },
  "language_info": {
   "codemirror_mode": {
    "name": "ipython",
    "version": 3
   },
   "file_extension": ".py",
   "mimetype": "text/x-python",
   "name": "python",
   "nbconvert_exporter": "python",
   "pygments_lexer": "ipython3",
   "version": "3.8.10"
  }
 },
 "nbformat": 4,
 "nbformat_minor": 4
}
