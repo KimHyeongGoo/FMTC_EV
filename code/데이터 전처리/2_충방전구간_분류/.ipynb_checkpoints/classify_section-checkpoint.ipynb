{
 "cells": [
  {
   "cell_type": "code",
   "execution_count": 1,
   "metadata": {},
   "outputs": [],
   "source": [
    "import os\n",
    "import pandas as pd\n",
    "import sys\n",
    "from collections import defaultdict\n",
    "import numpy as np\n",
    "import time\n",
    "import datetime\n",
    "import re\n",
    "import shutil\n",
    "\n",
    "sys.path.append('/')\n",
    "import classify_funcs"
   ]
  },
  {
   "cell_type": "markdown",
   "metadata": {},
   "source": [
    "## 인자값 입력\n",
    "\n",
    "### 1) 전처리할 파일들이 있는 디렉토리 경로\n",
    "### 2) 출력파일 디렉토리 경로"
   ]
  },
  {
   "cell_type": "code",
   "execution_count": 1,
   "metadata": {},
   "outputs": [],
   "source": [
    "# 데이터 파일 디렉토리 경로\n",
    "data_path = './data'\n",
    "# 출력 파일 경로\n",
    "out_path = './out'\n",
    "\n",
    "if data_path[-1] == '/':\n",
    "    data_path = data_path[:-1]\n",
    "if out_path[-1] == '/':\n",
    "    out_path = out_path[:-1]"
   ]
  },
  {
   "cell_type": "markdown",
   "metadata": {},
   "source": [
    "## (사용자 설정 디렉토리 내) 전처리대상 파일 리스트 자동 추출"
   ]
  },
  {
   "cell_type": "code",
   "execution_count": 3,
   "metadata": {},
   "outputs": [
    {
     "name": "stdout",
     "output_type": "stream",
     "text": [
      "CSV 파일 목록 불러오는 중..\n",
      "총 CSV파일 수 : 10\n"
     ]
    }
   ],
   "source": [
    "def recursive_search_dir(_nowDir, _filelist):\n",
    "    dir_list = []  # 현재 디렉토리의 서브디렉토리가 담길 list\n",
    "    f_list = os.listdir(_nowDir)\n",
    "    for fname in f_list:\n",
    "        if fname == \"checked_files\" or fname == \"result_files\":  # 이미 전처리한 폴더는 통과\n",
    "            continue\n",
    "        if os.path.isdir(_nowDir + \"/\" + fname):\n",
    "            dir_list.append(_nowDir + \"/\" + fname)\n",
    "        elif os.path.isfile(_nowDir + \"/\" + fname):\n",
    "            file_extension = os.path.splitext(fname)[1]\n",
    "            if file_extension == \".csv\" or file_extension == \".CSV\":  # csv\n",
    "                _filelist.append(_nowDir + \"/\" + fname)\n",
    "\n",
    "    for toDir in dir_list:\n",
    "        recursive_search_dir(toDir, _filelist)\n",
    "        \n",
    "csv_list = []\n",
    "print('CSV 파일 목록 불러오는 중..')\n",
    "recursive_search_dir(data_path, csv_list)\n",
    "print('총 CSV파일 수 : {}'.format(len(csv_list)))"
   ]
  },
  {
   "cell_type": "markdown",
   "metadata": {},
   "source": [
    "## 데이터 전처리 및 규격화"
   ]
  },
  {
   "cell_type": "code",
   "execution_count": 4,
   "metadata": {},
   "outputs": [
    {
     "name": "stdout",
     "output_type": "stream",
     "text": [
      "\n",
      "완속 충전구간 분류 중..\n",
      "Progress |██████████████████████████████████████████████████| 100.0% Complete\n",
      "\n",
      "급속 충전구간 분류 중..\n",
      "Progress |██████████████████████████████████████████████████| 100.0% Complete\n",
      "\n",
      "완속 충전구간 분류 중..\n",
      "Progress |██████████████████████████████████████████████████| 100.0% Complete\n"
     ]
    }
   ],
   "source": [
    "def printProgressBar(iteration, total, prefix = 'Progress', suffix = 'Complete',\\\n",
    "                      decimals = 1, length = 50, fill = '█'): \n",
    "    # 작업의 진행상황을 표시\n",
    "    percent = (\"{0:.\" + str(decimals) + \"f}\").format(100 * (iteration / float(total)))\n",
    "    filledLength = int(length * iteration // total)\n",
    "    bar = fill * filledLength + '-' * (length - filledLength)\n",
    "    print('\\r%s |%s| %s%% %s' %(prefix, bar, percent, suffix), end='\\r')\n",
    "    sys.stdout.flush()\n",
    "    if iteration == total:\n",
    "        print()\n",
    "\n",
    "\n",
    "print('\\n완속 충전구간 분류 중..')\n",
    "cnt=0\n",
    "usecols = list('dev_id|coll_dt|b_soc|b_slow_charg_con_sts|b_fast_charg_con_sts|b_pack_current|b_pack_volt|b_modul_1_temp|b_modul_2_temp|b_modul_3_temp|b_modul_4_temp|car_type|b_accum_charg_power_quan|c_mileage|a_extern_temp_sensor'.split('|'))\n",
    "for csv_file in csv_list:\n",
    "    printProgressBar(cnt, len(csv_list))\n",
    "    classify_funcs.slow_func(csv_file, data_path, out_path, usecols)\n",
    "    cnt+=1\n",
    "printProgressBar(cnt, len(csv_list))\n",
    "\n",
    "print('\\n급속 충전구간 분류 중..')\n",
    "cnt=0\n",
    "usecols = list('dev_id|coll_dt|b_soc|b_slow_charg_con_sts|b_fast_charg_con_sts|b_pack_current|b_pack_volt|b_modul_1_temp|b_modul_2_temp|b_modul_3_temp|b_modul_4_temp|car_type|b_accum_charg_power_quan|c_mileage|a_extern_temp_sensor'.split('|'))\n",
    "for csv_file in csv_list:\n",
    "    printProgressBar(cnt, len(csv_list))\n",
    "    classify_funcs.fast_func(csv_file, data_path, out_path, usecols)\n",
    "    cnt+=1\n",
    "printProgressBar(cnt, len(csv_list))\n",
    "\n",
    "print('\\n방전구간 분류 중..')\n",
    "cnt=0\n",
    "usecols = list('dev_id|coll_dt|b_soc|b_slow_charg_con_sts|b_fast_charg_con_sts|b_pack_current|b_pack_volt|b_modul_1_temp|b_modul_2_temp|b_modul_3_temp|b_modul_4_temp|car_type|b_accum_discharg_power_quan|c_mileage|v_car_speed|a_extern_temp_sensor|b_charg_lamp_sts_1|v_accel_pedal_depth'.split('|'))\n",
    "for csv_file in csv_list:\n",
    "    printProgressBar(cnt, len(csv_list))\n",
    "    classify_funcs.discharge_func(csv_file, data_path, out_path, usecols)\n",
    "    cnt+=1\n",
    "printProgressBar(cnt, len(csv_list))\n"
   ]
  },
  {
   "cell_type": "markdown",
   "metadata": {},
   "source": [
    "## 출력 파일 다운로드"
   ]
  },
  {
   "cell_type": "code",
   "execution_count": 5,
   "metadata": {},
   "outputs": [
    {
     "data": {
      "text/html": [
       "<a href='out.zip' target='_blank'>out.zip</a><br>"
      ],
      "text/plain": [
       "/home/srjung/EV_jupyter/데이터 전처리/충방전구간 분류/out.zip"
      ]
     },
     "execution_count": 5,
     "metadata": {},
     "output_type": "execute_result"
    }
   ],
   "source": [
    "shutil.make_archive('out', 'zip', out_path)\n",
    "from IPython.display import FileLink\n",
    "FileLink('out.zip')"
   ]
  },
  {
   "cell_type": "code",
   "execution_count": 6,
   "metadata": {},
   "outputs": [
    {
     "name": "stdout",
     "output_type": "stream",
     "text": [
      "\r",
      "Progress |████----------------------------------------------| 9.1% Complete\r"
     ]
    },
    {
     "ename": "KeyError",
     "evalue": "'temperature'",
     "output_type": "error",
     "traceback": [
      "\u001b[0;31m---------------------------------------------------------------------------\u001b[0m",
      "\u001b[0;31mKeyError\u001b[0m                                  Traceback (most recent call last)",
      "File \u001b[0;32m~/.local/lib/python3.8/site-packages/pandas/core/indexes/base.py:3621\u001b[0m, in \u001b[0;36mIndex.get_loc\u001b[0;34m(self, key, method, tolerance)\u001b[0m\n\u001b[1;32m   3620\u001b[0m \u001b[38;5;28;01mtry\u001b[39;00m:\n\u001b[0;32m-> 3621\u001b[0m     \u001b[38;5;28;01mreturn\u001b[39;00m \u001b[38;5;28;43mself\u001b[39;49m\u001b[38;5;241;43m.\u001b[39;49m\u001b[43m_engine\u001b[49m\u001b[38;5;241;43m.\u001b[39;49m\u001b[43mget_loc\u001b[49m\u001b[43m(\u001b[49m\u001b[43mcasted_key\u001b[49m\u001b[43m)\u001b[49m\n\u001b[1;32m   3622\u001b[0m \u001b[38;5;28;01mexcept\u001b[39;00m \u001b[38;5;167;01mKeyError\u001b[39;00m \u001b[38;5;28;01mas\u001b[39;00m err:\n",
      "File \u001b[0;32m~/.local/lib/python3.8/site-packages/pandas/_libs/index.pyx:136\u001b[0m, in \u001b[0;36mpandas._libs.index.IndexEngine.get_loc\u001b[0;34m()\u001b[0m\n",
      "File \u001b[0;32m~/.local/lib/python3.8/site-packages/pandas/_libs/index.pyx:163\u001b[0m, in \u001b[0;36mpandas._libs.index.IndexEngine.get_loc\u001b[0;34m()\u001b[0m\n",
      "File \u001b[0;32mpandas/_libs/hashtable_class_helper.pxi:5198\u001b[0m, in \u001b[0;36mpandas._libs.hashtable.PyObjectHashTable.get_item\u001b[0;34m()\u001b[0m\n",
      "File \u001b[0;32mpandas/_libs/hashtable_class_helper.pxi:5206\u001b[0m, in \u001b[0;36mpandas._libs.hashtable.PyObjectHashTable.get_item\u001b[0;34m()\u001b[0m\n",
      "\u001b[0;31mKeyError\u001b[0m: 'temperature'",
      "\nThe above exception was the direct cause of the following exception:\n",
      "\u001b[0;31mKeyError\u001b[0m                                  Traceback (most recent call last)",
      "Input \u001b[0;32mIn [6]\u001b[0m, in \u001b[0;36m<module>\u001b[0;34m\u001b[0m\n\u001b[1;32m     32\u001b[0m soc_avg \u001b[38;5;241m=\u001b[39m df[\u001b[38;5;124m'\u001b[39m\u001b[38;5;124mb_soc\u001b[39m\u001b[38;5;124m'\u001b[39m]\u001b[38;5;241m.\u001b[39mmean()\n\u001b[1;32m     33\u001b[0m battery_module1_temp_avg \u001b[38;5;241m=\u001b[39m df[\u001b[38;5;124m'\u001b[39m\u001b[38;5;124mb_modul_1_temp\u001b[39m\u001b[38;5;124m'\u001b[39m]\u001b[38;5;241m.\u001b[39mmean()\n\u001b[0;32m---> 35\u001b[0m temperature_avg \u001b[38;5;241m=\u001b[39m \u001b[43mdf\u001b[49m\u001b[43m[\u001b[49m\u001b[38;5;124;43m'\u001b[39;49m\u001b[38;5;124;43mtemperature\u001b[39;49m\u001b[38;5;124;43m'\u001b[39;49m\u001b[43m]\u001b[49m\u001b[38;5;241m.\u001b[39mmean()\n\u001b[1;32m     36\u001b[0m wind_speed_avg \u001b[38;5;241m=\u001b[39m df[\u001b[38;5;124m'\u001b[39m\u001b[38;5;124mwind_speed\u001b[39m\u001b[38;5;124m'\u001b[39m]\u001b[38;5;241m.\u001b[39mmean()\n\u001b[1;32m     37\u001b[0m humidity_avg \u001b[38;5;241m=\u001b[39m df[\u001b[38;5;124m'\u001b[39m\u001b[38;5;124mhumidity\u001b[39m\u001b[38;5;124m'\u001b[39m]\u001b[38;5;241m.\u001b[39mmean()\n",
      "File \u001b[0;32m~/.local/lib/python3.8/site-packages/pandas/core/frame.py:3505\u001b[0m, in \u001b[0;36mDataFrame.__getitem__\u001b[0;34m(self, key)\u001b[0m\n\u001b[1;32m   3503\u001b[0m \u001b[38;5;28;01mif\u001b[39;00m \u001b[38;5;28mself\u001b[39m\u001b[38;5;241m.\u001b[39mcolumns\u001b[38;5;241m.\u001b[39mnlevels \u001b[38;5;241m>\u001b[39m \u001b[38;5;241m1\u001b[39m:\n\u001b[1;32m   3504\u001b[0m     \u001b[38;5;28;01mreturn\u001b[39;00m \u001b[38;5;28mself\u001b[39m\u001b[38;5;241m.\u001b[39m_getitem_multilevel(key)\n\u001b[0;32m-> 3505\u001b[0m indexer \u001b[38;5;241m=\u001b[39m \u001b[38;5;28;43mself\u001b[39;49m\u001b[38;5;241;43m.\u001b[39;49m\u001b[43mcolumns\u001b[49m\u001b[38;5;241;43m.\u001b[39;49m\u001b[43mget_loc\u001b[49m\u001b[43m(\u001b[49m\u001b[43mkey\u001b[49m\u001b[43m)\u001b[49m\n\u001b[1;32m   3506\u001b[0m \u001b[38;5;28;01mif\u001b[39;00m is_integer(indexer):\n\u001b[1;32m   3507\u001b[0m     indexer \u001b[38;5;241m=\u001b[39m [indexer]\n",
      "File \u001b[0;32m~/.local/lib/python3.8/site-packages/pandas/core/indexes/base.py:3623\u001b[0m, in \u001b[0;36mIndex.get_loc\u001b[0;34m(self, key, method, tolerance)\u001b[0m\n\u001b[1;32m   3621\u001b[0m     \u001b[38;5;28;01mreturn\u001b[39;00m \u001b[38;5;28mself\u001b[39m\u001b[38;5;241m.\u001b[39m_engine\u001b[38;5;241m.\u001b[39mget_loc(casted_key)\n\u001b[1;32m   3622\u001b[0m \u001b[38;5;28;01mexcept\u001b[39;00m \u001b[38;5;167;01mKeyError\u001b[39;00m \u001b[38;5;28;01mas\u001b[39;00m err:\n\u001b[0;32m-> 3623\u001b[0m     \u001b[38;5;28;01mraise\u001b[39;00m \u001b[38;5;167;01mKeyError\u001b[39;00m(key) \u001b[38;5;28;01mfrom\u001b[39;00m \u001b[38;5;21;01merr\u001b[39;00m\n\u001b[1;32m   3624\u001b[0m \u001b[38;5;28;01mexcept\u001b[39;00m \u001b[38;5;167;01mTypeError\u001b[39;00m:\n\u001b[1;32m   3625\u001b[0m     \u001b[38;5;66;03m# If we have a listlike key, _check_indexing_error will raise\u001b[39;00m\n\u001b[1;32m   3626\u001b[0m     \u001b[38;5;66;03m#  InvalidIndexError. Otherwise we fall through and re-raise\u001b[39;00m\n\u001b[1;32m   3627\u001b[0m     \u001b[38;5;66;03m#  the TypeError.\u001b[39;00m\n\u001b[1;32m   3628\u001b[0m     \u001b[38;5;28mself\u001b[39m\u001b[38;5;241m.\u001b[39m_check_indexing_error(key)\n",
      "\u001b[0;31mKeyError\u001b[0m: 'temperature'"
     ]
    }
   ],
   "source": [
    "# YYYY-mm-dd HH:MM:SS -> epoch\n",
    "def convertTimeToEpoch(_time):\n",
    "    date_time = \"%s.%s.%s %s:%s:%s\" %(_time[8:10], _time[5:7], _time[:4], _time[11:13], _time[14:16], _time[17:19])\n",
    "    pattern = \"%d.%m.%Y %H:%M:%S\"\n",
    "    epoch = int (time.mktime(time.strptime(date_time, pattern)))\n",
    "    return epoch\n",
    "\n",
    "file_list = []\n",
    "recursive_search_dir('./out/fast_charge/', file_list)\n",
    "\n",
    "charge_statistic_df = pd.DataFrame(columns=['car_id', 'car_type', 'date_start', 'start_soc', 'end_soc', 'charge_quan', 'charge_time', 'charge_speed', 'charge_power_quan', 'mileage', 'current_avg', 'volt_avg', 'extern_temp_avg', 'soc_avg', 'battery_module1_temp_avg'])\n",
    "\n",
    "cnt = 1\n",
    "t_cnt = len(file_list)\n",
    "for csv in file_list:\n",
    "    printProgressBar(cnt, t_cnt)\n",
    "    df = pd.read_csv(csv)\n",
    "    car_id = df.iloc[0]['dev_id']\n",
    "    car_type = df.iloc[0]['car_type']\n",
    "    date_start = df.iloc[0]['coll_dt']\n",
    "    start_soc = df.iloc[0]['b_soc']\n",
    "    end_soc = df.iloc[-1]['b_soc']\n",
    "    charge_quan = end_soc - start_soc\n",
    "    charge_time = convertTimeToEpoch(df.iloc[-1]['coll_dt']) - convertTimeToEpoch(df.iloc[0]['coll_dt'])\n",
    "    charge_speed = (charge_quan / charge_time) * 3600  # 1시간당 충전 SOC 양\n",
    "    charge_power_quan = df.iloc[-1]['b_accum_charg_power_quan'] - df.iloc[0]['b_accum_charg_power_quan']\n",
    "    charge_power_per_hour = (charge_power_quan / charge_time) * 3600  # 1시간당 충전 전력 (kW)\n",
    "    accum_mileage = df.iloc[0]['c_mileage']\n",
    "    current_avg = df['b_pack_current'].mean()\n",
    "    volt_avg = df['b_pack_volt'].mean()\n",
    "    extern_temp_avg = df['a_extern_temp_sensor'].mean()\n",
    "    soc_avg = df['b_soc'].mean()\n",
    "    battery_module1_temp_avg = df['b_modul_1_temp'].mean()\n",
    "\n",
    "    temperature_avg = df['temperature'].mean()\n",
    "    wind_speed_avg = df['wind_speed'].mean()\n",
    "    humidity_avg = df['humidity'].mean()\n",
    "    rainfall_avg = df['rainfall'].mean()\n",
    "    snowfall_avg = df['snowfall'].mean()\n",
    "\n",
    "    traffic_volume_avg = df['traffic_volume'].mean()\n",
    "\n",
    "    # 대기오염 데이터가 없으면, 해당 필드는 NaN으로 처리\n",
    "    try:\n",
    "        air_co_avg = df['air_co'].mean()\n",
    "        air_no2_avg = df['air_no2'].mean()\n",
    "        air_o3_avg = df['air_o3'].mean()\n",
    "        air_pm10_avg = df['air_pm10'].mean()\n",
    "        air_pm25_avg = df['air_pm25'].mean()\n",
    "        air_so2_avg = df['air_so2'].mean()\n",
    "    except:\n",
    "        air_co_avg = np.nan\n",
    "        air_no2_avg = np.nan\n",
    "        air_o3_avg = np.nan\n",
    "        air_pm10_avg = np.nan\n",
    "        air_pm25_avg = np.nan\n",
    "        air_so2_avg = np.nan\n",
    "\n",
    "    append_row = [car_id, car_type, date_start, start_soc, end_soc, charge_quan, charge_time, charge_speed, charge_power_quan, charge_power_per_hour, accum_mileage, current_avg, volt_avg, extern_temp_avg, soc_avg, battery_module1_temp_avg, temperature_avg, wind_speed_avg, humidity_avg, rainfall_avg, snowfall_avg, traffic_volume_avg, air_co_avg, air_no2_avg, air_o3_avg, air_pm10_avg, air_pm25_avg, air_so2_avg]\n",
    "    append_row_df = pd.DataFrame([append_row], columns=['car_id', 'car_type', 'date_start', 'start_soc', 'end_soc', 'charge_quan', 'charge_time', 'charge_speed', 'charge_power_quan', 'charge_power_per_hour', 'accum_mileage', 'current_avg', 'volt_avg', 'extern_temp_avg', 'soc_avg', 'battery_module1_temp_avg', 'temperature_avg', 'wind_speed_avg', 'humidity_avg', 'rainfall_avg', 'snowfall_avg', 'traffic_volume_avg', 'air_co_avg', 'air_no2_avg', 'air_o3_avg', 'air_pm10_avg', 'air_pm25_avg', 'air_so2_avg'])\n",
    "    charge_statistic_df = pd.concat([charge_statistic_df, append_row_df])\n",
    "    cnt+=1\n",
    "charge_statistic_df = charge_statistic_df.sort_values(by=['date_start'])\n",
    "charge_statistic_df.reset_index(drop=True, inplace=True)\n",
    "\n",
    "charge_statistic_df.to_csv(_file_output, index=False)"
   ]
  },
  {
   "cell_type": "code",
   "execution_count": null,
   "metadata": {},
   "outputs": [],
   "source": []
  }
 ],
 "metadata": {
  "kernelspec": {
   "display_name": "Python 3 (ipykernel)",
   "language": "python",
   "name": "python3"
  },
  "language_info": {
   "codemirror_mode": {
    "name": "ipython",
    "version": 3
   },
   "file_extension": ".py",
   "mimetype": "text/x-python",
   "name": "python",
   "nbconvert_exporter": "python",
   "pygments_lexer": "ipython3",
   "version": "3.8.10"
  }
 },
 "nbformat": 4,
 "nbformat_minor": 4
}
