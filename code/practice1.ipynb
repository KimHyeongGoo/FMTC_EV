{
 "cells": [
  {
   "cell_type": "code",
   "execution_count": null,
   "id": "fd6dcf58",
   "metadata": {},
   "outputs": [],
   "source": [
    "# 필요한 라이브러리 임포트\n",
    "import pandas as pd\n",
    "import matplotlib.pyplot as plt\n",
    "import seaborn as sns\n",
    "import os"
   ]
  },
  {
   "cell_type": "code",
   "execution_count": null,
   "id": "b6c5864d",
   "metadata": {},
   "outputs": [],
   "source": [
    "# 데이터 로드\n",
    "data_2022 = pd.read_csv('https://raw.githubusercontent.com/KimHyeongGoo/FMTC_EV/main/code/%EB%8D%B0%EC%9D%B4%ED%84%B0%20%EB%B6%84%EC%84%9D/%EA%B8%89%EC%86%8D%EC%B6%A9%EC%A0%84%EA%B5%AC%EA%B0%84%20%EB%B6%84%EC%84%9D/data/2022_fast_charge_merged_statistics.csv')\n",
    "data_2207 = pd.read_csv('https://raw.githubusercontent.com/KimHyeongGoo/FMTC_EV/main/code/%EB%8D%B0%EC%9D%B4%ED%84%B0%20%EB%B6%84%EC%84%9D/%EA%B8%89%EC%86%8D%EC%B6%A9%EC%A0%84%EA%B5%AC%EA%B0%84%20%EB%B6%84%EC%84%9D/data/2207_fast_charge_merged_statistics.csv')\n",
    "data_2208 = pd.read_csv('https://raw.githubusercontent.com/KimHyeongGoo/FMTC_EV/main/code/%EB%8D%B0%EC%9D%B4%ED%84%B0%20%EB%B6%84%EC%84%9D/%EA%B8%89%EC%86%8D%EC%B6%A9%EC%A0%84%EA%B5%AC%EA%B0%84%20%EB%B6%84%EC%84%9D/data/2208_fast_charge_merged_statistics.csv')\n",
    "data_2209 = pd.read_csv('https://raw.githubusercontent.com/KimHyeongGoo/FMTC_EV/main/code/%EB%8D%B0%EC%9D%B4%ED%84%B0%20%EB%B6%84%EC%84%9D/%EA%B8%89%EC%86%8D%EC%B6%A9%EC%A0%84%EA%B5%AC%EA%B0%84%20%EB%B6%84%EC%84%9D/data/2209_fast_charge_merged_statistics.csv')"
   ]
  },
  {
   "cell_type": "code",
   "execution_count": null,
   "id": "b20bf656",
   "metadata": {},
   "outputs": [],
   "source": [
    "# 데이터의 처음 몇 줄을 확인하여 구조 파악\n",
    "print(\"2022년 1~3월 데이터의 처음 5줄:\")\n",
    "data_2022.head()"
   ]
  },
  {
   "cell_type": "code",
   "execution_count": null,
   "id": "181210dc",
   "metadata": {},
   "outputs": [],
   "source": [
    "print(\"\\n2022년 7월 데이터의 처음 5줄:\")\n",
    "data_2207.head()"
   ]
  },
  {
   "cell_type": "code",
   "execution_count": null,
   "id": "36a1cae5",
   "metadata": {},
   "outputs": [],
   "source": [
    "print(\"\\n2022년 8월 데이터의 처음 5줄:\")\n",
    "data_2208.head()"
   ]
  },
  {
   "cell_type": "code",
   "execution_count": null,
   "id": "851f4084",
   "metadata": {},
   "outputs": [],
   "source": [
    "# 데이터를 하나로 합치기\n",
    "combined_data = pd.concat([data_2022, data_2207, data_2208, data_2209])\n",
    "combined_data"
   ]
  },
  {
   "cell_type": "markdown",
   "id": "f3ace99e",
   "metadata": {},
   "source": [
    "## 예제 1) 차량 종류 별 충전량, 충전속도, 충전시간 비교\n",
    "- 필드정보\n",
    "    - 차량 종류 : car_type\n",
    "    - 충전량 : charge_quan\n",
    "    - 충전속도 : charge_speed\n",
    "    - 충전시간 : charge_time"
   ]
  },
  {
   "cell_type": "code",
   "execution_count": null,
   "id": "01ab894b",
   "metadata": {},
   "outputs": [],
   "source": [
    "# 연도별 평균 충전량, 충전 속도, 충전 시간 계산\n",
    "avg_stats = combined_data.groupby('car_type').agg({\n",
    "    '': 'mean',  # 충전량 필드 삽입\n",
    "    '': 'mean',  # 충전속도 필드 삽입\n",
    "    '': 'mean',  # 충전시간 필드 삽입\n",
    "}).reset_index()\n",
    "\n",
    "print(\"\\n차량 종류별 평균 충전량, 충전 속도, 충전 시간:\")\n",
    "avg_stats"
   ]
  },
  {
   "cell_type": "code",
   "execution_count": null,
   "id": "581d8c6b",
   "metadata": {},
   "outputs": [],
   "source": [
    "# 시각화: 연도별 평균 충전량, 충전 속도, 충전 시간\n",
    "plt.figure(figsize=(14, 6))\n",
    "\n",
    "# 평균 충전량\n",
    "plt.subplot(1, 3, 1)\n",
    "sns.barplot(x='', y='', data=avg_stats)   # x축(차량 종류), y출(충전량) 필드 삽입\n",
    "plt.xlabel('car type')\n",
    "plt.ylabel('charge quantity')\n",
    "\n",
    "# 평균 충전 속도\n",
    "plt.subplot(1, 3, 2)\n",
    "sns.barplot(x='', y='', data=avg_stats)   # x축(차량 종류), y출(충전 속도) 필드 삽입\n",
    "plt.xlabel('car type')\n",
    "plt.ylabel('charge speed')\n",
    "\n",
    "# 평균 충전 시간\n",
    "plt.subplot(1, 3, 3)\n",
    "sns.barplot(x='', y='', data=avg_stats)   # x축(차량 종류), y출(충전시간) 필드 삽입\n",
    "plt.xlabel('car type')\n",
    "plt.ylabel('charge time')\n",
    "\n",
    "plt.tight_layout()\n",
    "plt.show()"
   ]
  },
  {
   "cell_type": "markdown",
   "id": "4f62b51c",
   "metadata": {},
   "source": [
    "## 예제 2) 월별 충전량, 충전속도, 충전시간비교\n",
    "- 필드정보\n",
    "  - 월 : month\n",
    "  - 충전량 : charge_quan\n",
    "  - 충전속도 : charge_speed\n",
    "  - 충전시간 : charge_time"
   ]
  },
  {
   "cell_type": "code",
   "execution_count": null,
   "id": "604f4b4d",
   "metadata": {},
   "outputs": [],
   "source": [
    "# 날짜 정보를 datetime 형식으로 변환\n",
    "combined_data['date_start'] = pd.to_datetime(combined_data['date_start'])\n",
    "\n",
    "# 월 정보 추가\n",
    "combined_data['month'] = combined_data['date_start'].dt.month"
   ]
  },
  {
   "cell_type": "code",
   "execution_count": null,
   "id": "1de75580",
   "metadata": {},
   "outputs": [],
   "source": [
    "# 월별 평균 충전량, 충전 시간, 충전 속도 계산\n",
    "monthly_stats = combined_data.groupby('month').agg({\n",
    "    '': 'mean',  # 충전량 필드 삽입\n",
    "    '': 'mean',  # 충전속도 필드 삽입\n",
    "    '': 'mean'  # 충전시간 필드 삽입\n",
    "}).reset_index()\n",
    "\n",
    "print(\"\\n월별 평균 충전량, 충전 시간, 충전 속도:\")\n",
    "monthly_stats"
   ]
  },
  {
   "cell_type": "code",
   "execution_count": null,
   "id": "40856e88",
   "metadata": {},
   "outputs": [],
   "source": [
    "# 시각화: 월별 평균 충전량, 충전 시간, 충전 속도\n",
    "plt.figure(figsize=(18, 6))\n",
    "\n",
    "# 평균 충전량\n",
    "plt.subplot(1, 3, 1)\n",
    "sns.barplot(x='', y='', data=monthly_stats)   # x축(월), y출(충전량) 필드 삽입\n",
    "plt.ylabel('charge_quantity')\n",
    "\n",
    "# 평균 충전 시간\n",
    "plt.subplot(1, 3, 2)\n",
    "sns.barplot(x='', y='', data=monthly_stats)   # x축(월), y출(충전속도) 필드 삽입\n",
    "plt.ylabel('charge time(secs)')\n",
    "\n",
    "# 평균 충전 속도\n",
    "plt.subplot(1, 3, 3)\n",
    "sns.barplot(x='', y='', data=monthly_stats)   # x축(월), y출(충전시간) 필드 삽입\n",
    "plt.ylabel('charge speed')\n",
    "\n",
    "plt.tight_layout()\n",
    "plt.show()"
   ]
  },
  {
   "cell_type": "code",
   "execution_count": null,
   "id": "dfa65507",
   "metadata": {},
   "outputs": [],
   "source": []
  }
 ],
 "metadata": {
  "kernelspec": {
   "display_name": "Python 3 (ipykernel)",
   "language": "python",
   "name": "python3"
  },
  "language_info": {
   "codemirror_mode": {
    "name": "ipython",
    "version": 3
   },
   "file_extension": ".py",
   "mimetype": "text/x-python",
   "name": "python",
   "nbconvert_exporter": "python",
   "pygments_lexer": "ipython3",
   "version": "3.8.10"
  }
 },
 "nbformat": 4,
 "nbformat_minor": 5
}
