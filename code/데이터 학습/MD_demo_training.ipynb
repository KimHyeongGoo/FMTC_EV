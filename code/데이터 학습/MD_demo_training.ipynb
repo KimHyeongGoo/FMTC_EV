{
 "cells": [
  {
   "cell_type": "code",
   "execution_count": 1,
   "id": "ba2b2367",
   "metadata": {
    "scrolled": true
   },
   "outputs": [
    {
     "name": "stderr",
     "output_type": "stream",
     "text": [
      "/home/srjung/.local/lib/python3.8/site-packages/xgboost/compat.py:36: FutureWarning: pandas.Int64Index is deprecated and will be removed from pandas in a future version. Use pandas.Index with the appropriate dtype instead.\n",
      "  from pandas import MultiIndex, Int64Index\n",
      "/usr/local/lib/python3.8/dist-packages/pkg_resources/__init__.py:123: PkgResourcesDeprecationWarning: 0.23ubuntu1 is an invalid version and will not be supported in a future release\n",
      "  warnings.warn(\n",
      "/usr/local/lib/python3.8/dist-packages/pkg_resources/__init__.py:123: PkgResourcesDeprecationWarning: 1.13.1-unknown is an invalid version and will not be supported in a future release\n",
      "  warnings.warn(\n",
      "/usr/local/lib/python3.8/dist-packages/pkg_resources/__init__.py:123: PkgResourcesDeprecationWarning: 0.1.36ubuntu1 is an invalid version and will not be supported in a future release\n",
      "  warnings.warn(\n"
     ]
    }
   ],
   "source": [
    "import pandas as pd\n",
    "import sys\n",
    "import os\n",
    "from dateutil.parser import parse\n",
    "from pandas.core.common import flatten\n",
    "import time\n",
    "import numpy as np\n",
    "import json\n",
    "from pprint import pprint \n",
    "from psycopg2 import connect\n",
    "from more_itertools import locate\n",
    "from sklearn.preprocessing import StandardScaler\n",
    "from sklearn.model_selection import train_test_split\n",
    "from sklearn.ensemble import RandomForestClassifier\n",
    "from xgboost import XGBClassifier\n",
    "from sklearn.metrics import confusion_matrix, accuracy_score, recall_score\n",
    "import joblib\n",
    "import warnings\n",
    "warnings.filterwarnings(\"ignore\")"
   ]
  },
  {
   "cell_type": "markdown",
   "id": "4790a085",
   "metadata": {},
   "source": [
    "## 머신러닝 학습 및 판단 개요"
   ]
  },
  {
   "cell_type": "markdown",
   "id": "65d93085",
   "metadata": {},
   "source": [
    "![nn](demo_img.png)"
   ]
  },
  {
   "cell_type": "markdown",
   "id": "1c96ed03",
   "metadata": {},
   "source": [
    "## 인자값 입력\n",
    "### 1) 학습에 활용할 입력 데이터 필드 선택 (사용자 설정: COL NAME 입력)\n",
    "### 2) 출력 필드 선택 (사용자 설정: TARGET NAME 입력)"
   ]
  },
  {
   "cell_type": "code",
   "execution_count": 2,
   "id": "38dcc9fb",
   "metadata": {},
   "outputs": [],
   "source": [
    "#########################################\n",
    "# 입력 데이터 필드\n",
    "# 사용자 입력 COL_NAME as COL\n",
    "col='b_soc|b_pack_current|b_pack_volt|b_moter_rpm|b_modul_1_temp|b_modul_2_temp|b_cell1_volt|b_max_chargable_power|b_inverter_capa_volt'\n",
    "#########################################\n",
    "\n",
    "col = list(col.split(\"|\"))\n",
    "ts='coll_dt'\n",
    "dev_id='dev_id'\n",
    "\n",
    "#########################################\n",
    "# 출력 필드\n",
    "# 사용자 입력 TARGET_NAME as TARGET\n",
    "target='b_fast_charg_con_sts'\n",
    "#########################################"
   ]
  },
  {
   "cell_type": "markdown",
   "id": "d069f478",
   "metadata": {},
   "source": [
    "## (사용자 설정 디렉토리 내) 학습대상 파일 리스트 자동 추출"
   ]
  },
  {
   "cell_type": "code",
   "execution_count": 3,
   "id": "3f14d04b",
   "metadata": {},
   "outputs": [
    {
     "name": "stdout",
     "output_type": "stream",
     "text": [
      " [loop] recursive searching  MD_demo_training_data \n",
      "\n",
      "['MD_demo_training_data/M1200606115.csv', 'MD_demo_training_data/M1200606106.csv', 'MD_demo_training_data/M1200606160.csv', 'MD_demo_training_data/M1200606110.csv', 'MD_demo_training_data/M1200606101.csv', 'MD_demo_training_data/M1200606102.csv', 'MD_demo_training_data/M1200606128.csv', 'MD_demo_training_data/M1200606112.csv', 'MD_demo_training_data/M1200606103.csv', 'MD_demo_training_data/M1200606104_2.csv', 'MD_demo_training_data/M1200606104_1.csv', 'MD_demo_training_data/M1200606117.csv']\n"
     ]
    }
   ],
   "source": [
    "#########################################\n",
    "# 학습대상 파일 디렉토리 설정\n",
    "path='MD_demo_training_data'\n",
    "#########################################\n",
    "\n",
    "def recursive_search_dir(_nowDir, _filelist):\n",
    "    print(\" [loop] recursive searching \", _nowDir, '\\n')\n",
    "\n",
    "    if os.path.isfile(_nowDir):\n",
    "        _filelist.append(_nowDir)\n",
    "        return None\n",
    "\n",
    "    dir_list = []  # 현재 디렉토리의 서브디렉토리가 담길 list\n",
    "    \n",
    "    f_list = os.listdir(_nowDir)\n",
    "    for fname in f_list:\n",
    "        if os.path.isdir(_nowDir + \"/\" + fname):\n",
    "            dir_list.append(_nowDir + \"/\" + fname)\n",
    "        elif os.path.isfile(_nowDir + \"/\" + fname):\n",
    "            _filelist.append(_nowDir + \"/\" + fname)\n",
    "\n",
    "    for toDir in dir_list:\n",
    "        recursive_search_dir(toDir, _filelist)\n",
    "\n",
    "file_list = []\n",
    "recursive_search_dir(path, file_list)\n",
    "\n",
    "if len(file_list) == 0:      \n",
    "    exit('\\n\\\"' + _path + '\\\" 경로에 파일이 없습니다. 데이터셋이 있는지 확인해주세요.')\n",
    "    \n",
    "print(file_list)"
   ]
  },
  {
   "cell_type": "markdown",
   "id": "cd81586f",
   "metadata": {},
   "source": [
    "## CSV 파일을 데이터프레임으로 변환"
   ]
  },
  {
   "cell_type": "code",
   "execution_count": 4,
   "id": "c5b80cdc",
   "metadata": {},
   "outputs": [
    {
     "name": "stdout",
     "output_type": "stream",
     "text": [
      "              dev_id                  coll_dt  b_soc  b_pack_current  \\\n",
      "0        M1200606115  2021-11-15 19:07:17.000   79.0             0.9   \n",
      "1        M1200606115  2021-11-15 19:07:19.000   79.0             0.9   \n",
      "2        M1200606115  2021-11-15 19:07:20.000   79.0             0.9   \n",
      "3        M1200606115  2021-11-15 19:07:21.000   79.0             1.0   \n",
      "4        M1200606115  2021-11-15 19:07:22.000   79.0             0.9   \n",
      "...              ...                      ...    ...             ...   \n",
      "2489404  M1200606117  2021-12-08 17:24:20.000   58.5             1.4   \n",
      "2489405  M1200606117  2021-12-08 17:24:22.000   58.5             1.5   \n",
      "2489406  M1200606117  2021-12-08 17:24:24.000   58.5             0.0   \n",
      "2489407  M1200606117  2021-12-08 20:49:27.000   58.5             0.0   \n",
      "2489408  M1200606117  2021-12-08 23:07:46.000   58.5             0.0   \n",
      "\n",
      "         b_pack_volt  b_inverter_capa_volt  b_moter_rpm  \\\n",
      "0              387.5                 388.0          0.0   \n",
      "1              387.5                 388.0          0.0   \n",
      "2              387.5                 388.0          0.0   \n",
      "3              387.5                 388.0          0.0   \n",
      "4              387.5                 388.0          0.0   \n",
      "...              ...                   ...          ...   \n",
      "2489404        371.8                 372.0          0.0   \n",
      "2489405        371.8                 372.0          0.0   \n",
      "2489406        371.8                 365.0          0.0   \n",
      "2489407        372.2                   1.0          0.0   \n",
      "2489408        372.1                   2.0          0.0   \n",
      "\n",
      "         b_max_chargable_power  b_fast_charg_con_sts  b_modul_1_temp  \\\n",
      "0                       145.15                   0.0            18.0   \n",
      "1                       145.15                   0.0            18.0   \n",
      "2                       145.15                   0.0            18.0   \n",
      "3                       145.15                   0.0            18.0   \n",
      "4                       145.15                   0.0            18.0   \n",
      "...                        ...                   ...             ...   \n",
      "2489404                 170.00                   0.0            30.0   \n",
      "2489405                 170.00                   0.0            30.0   \n",
      "2489406                 170.00                   0.0            30.0   \n",
      "2489407                 170.00                   0.0            24.0   \n",
      "2489408                 170.00                   0.0            21.0   \n",
      "\n",
      "         b_modul_2_temp  b_cell1_volt  \n",
      "0                  17.0          3.94  \n",
      "1                  17.0          3.94  \n",
      "2                  17.0          3.94  \n",
      "3                  17.0          3.94  \n",
      "4                  17.0          3.94  \n",
      "...                 ...           ...  \n",
      "2489404            29.0          3.78  \n",
      "2489405            29.0          3.78  \n",
      "2489406            29.0          3.78  \n",
      "2489407            25.0          3.78  \n",
      "2489408            22.0          3.78  \n",
      "\n",
      "[2489409 rows x 12 columns]\n"
     ]
    }
   ],
   "source": [
    "colm = [dev_id, ts, target]\n",
    "if dev_id == '...':\n",
    "    colm.remove(dev_id)\n",
    "\n",
    "colm = col + colm\n",
    "\n",
    "all_df = []\n",
    "for file in file_list:\n",
    "    f_extension = os.path.splitext(file)[1]\n",
    "    if f_extension == \".csv\" or f_extension == \".CSV\":\n",
    "        df = pd.read_csv(file, usecols=colm)\n",
    "        df = df.dropna()\n",
    "        df.sort_values(by=[ts],axis=0)\n",
    "        all_df.append(df)\n",
    "        \n",
    "    '''\n",
    "      # 모든 파일 데이터를 단일 데이터로 병합\n",
    "    '''\n",
    "one_df = pd.DataFrame()\n",
    "for i in range(len(all_df)):\n",
    "    one_df = pd.concat([one_df, all_df[i]], ignore_index=True)\n",
    "\n",
    "print(one_df)"
   ]
  },
  {
   "cell_type": "markdown",
   "id": "b9e197ce",
   "metadata": {},
   "source": [
    "## 머신러닝 학습 및 모델 저장"
   ]
  },
  {
   "cell_type": "code",
   "execution_count": 5,
   "id": "836c6d92",
   "metadata": {
    "scrolled": false
   },
   "outputs": [
    {
     "name": "stdout",
     "output_type": "stream",
     "text": [
      "-----------------------------------------\n",
      "\n",
      "■ XGBoost 학습 시작: \n",
      "\n",
      "[0]\tvalidation_0-error:0.01334\tvalidation_0-logloss:0.44923\tvalidation_1-error:0.01349\tvalidation_1-logloss:0.44925\n",
      "[1]\tvalidation_0-error:0.01295\tvalidation_0-logloss:0.31439\tvalidation_1-error:0.01312\tvalidation_1-logloss:0.31457\n",
      "[2]\tvalidation_0-error:0.01280\tvalidation_0-logloss:0.22922\tvalidation_1-error:0.01291\tvalidation_1-logloss:0.22918\n",
      "[3]\tvalidation_0-error:0.01263\tvalidation_0-logloss:0.17217\tvalidation_1-error:0.01280\tvalidation_1-logloss:0.17209\n",
      "[4]\tvalidation_0-error:0.01169\tvalidation_0-logloss:0.13083\tvalidation_1-error:0.01176\tvalidation_1-logloss:0.13075\n",
      "[5]\tvalidation_0-error:0.01183\tvalidation_0-logloss:0.10260\tvalidation_1-error:0.01196\tvalidation_1-logloss:0.10249\n",
      "[6]\tvalidation_0-error:0.00971\tvalidation_0-logloss:0.08053\tvalidation_1-error:0.00980\tvalidation_1-logloss:0.08040\n",
      "[7]\tvalidation_0-error:0.01138\tvalidation_0-logloss:0.06549\tvalidation_1-error:0.01141\tvalidation_1-logloss:0.06540\n",
      "[8]\tvalidation_0-error:0.01083\tvalidation_0-logloss:0.05432\tvalidation_1-error:0.01082\tvalidation_1-logloss:0.05422\n",
      "[9]\tvalidation_0-error:0.01081\tvalidation_0-logloss:0.04598\tvalidation_1-error:0.01079\tvalidation_1-logloss:0.04586\n",
      "[10]\tvalidation_0-error:0.01073\tvalidation_0-logloss:0.03995\tvalidation_1-error:0.01072\tvalidation_1-logloss:0.03983\n",
      "[11]\tvalidation_0-error:0.00817\tvalidation_0-logloss:0.03567\tvalidation_1-error:0.00811\tvalidation_1-logloss:0.03554\n",
      "[12]\tvalidation_0-error:0.00733\tvalidation_0-logloss:0.03205\tvalidation_1-error:0.00726\tvalidation_1-logloss:0.03192\n",
      "[13]\tvalidation_0-error:0.00659\tvalidation_0-logloss:0.02845\tvalidation_1-error:0.00651\tvalidation_1-logloss:0.02831\n",
      "[14]\tvalidation_0-error:0.00673\tvalidation_0-logloss:0.02651\tvalidation_1-error:0.00664\tvalidation_1-logloss:0.02639\n",
      "[15]\tvalidation_0-error:0.00655\tvalidation_0-logloss:0.02475\tvalidation_1-error:0.00647\tvalidation_1-logloss:0.02463\n",
      "[16]\tvalidation_0-error:0.00672\tvalidation_0-logloss:0.02364\tvalidation_1-error:0.00662\tvalidation_1-logloss:0.02353\n",
      "[17]\tvalidation_0-error:0.00544\tvalidation_0-logloss:0.02173\tvalidation_1-error:0.00536\tvalidation_1-logloss:0.02162\n",
      "[18]\tvalidation_0-error:0.00532\tvalidation_0-logloss:0.02038\tvalidation_1-error:0.00532\tvalidation_1-logloss:0.02031\n",
      "[19]\tvalidation_0-error:0.00513\tvalidation_0-logloss:0.01911\tvalidation_1-error:0.00510\tvalidation_1-logloss:0.01902\n",
      "[20]\tvalidation_0-error:0.00449\tvalidation_0-logloss:0.01813\tvalidation_1-error:0.00441\tvalidation_1-logloss:0.01801\n",
      "[21]\tvalidation_0-error:0.00438\tvalidation_0-logloss:0.01752\tvalidation_1-error:0.00432\tvalidation_1-logloss:0.01741\n",
      "[22]\tvalidation_0-error:0.00430\tvalidation_0-logloss:0.01624\tvalidation_1-error:0.00429\tvalidation_1-logloss:0.01612\n",
      "[23]\tvalidation_0-error:0.00447\tvalidation_0-logloss:0.01570\tvalidation_1-error:0.00444\tvalidation_1-logloss:0.01558\n",
      "[24]\tvalidation_0-error:0.00391\tvalidation_0-logloss:0.01534\tvalidation_1-error:0.00393\tvalidation_1-logloss:0.01521\n",
      "[25]\tvalidation_0-error:0.00374\tvalidation_0-logloss:0.01459\tvalidation_1-error:0.00373\tvalidation_1-logloss:0.01445\n",
      "[26]\tvalidation_0-error:0.00332\tvalidation_0-logloss:0.01354\tvalidation_1-error:0.00329\tvalidation_1-logloss:0.01338\n",
      "[27]\tvalidation_0-error:0.00317\tvalidation_0-logloss:0.01308\tvalidation_1-error:0.00314\tvalidation_1-logloss:0.01293\n",
      "[28]\tvalidation_0-error:0.00249\tvalidation_0-logloss:0.01249\tvalidation_1-error:0.00242\tvalidation_1-logloss:0.01234\n",
      "[29]\tvalidation_0-error:0.00242\tvalidation_0-logloss:0.01193\tvalidation_1-error:0.00232\tvalidation_1-logloss:0.01177\n",
      "[30]\tvalidation_0-error:0.00216\tvalidation_0-logloss:0.01115\tvalidation_1-error:0.00210\tvalidation_1-logloss:0.01098\n",
      "[31]\tvalidation_0-error:0.00213\tvalidation_0-logloss:0.01009\tvalidation_1-error:0.00205\tvalidation_1-logloss:0.00992\n",
      "[32]\tvalidation_0-error:0.00178\tvalidation_0-logloss:0.00990\tvalidation_1-error:0.00173\tvalidation_1-logloss:0.00973\n",
      "[33]\tvalidation_0-error:0.00168\tvalidation_0-logloss:0.00943\tvalidation_1-error:0.00165\tvalidation_1-logloss:0.00927\n",
      "[34]\tvalidation_0-error:0.00204\tvalidation_0-logloss:0.00925\tvalidation_1-error:0.00198\tvalidation_1-logloss:0.00908\n",
      "[35]\tvalidation_0-error:0.00200\tvalidation_0-logloss:0.00909\tvalidation_1-error:0.00195\tvalidation_1-logloss:0.00892\n",
      "[36]\tvalidation_0-error:0.00154\tvalidation_0-logloss:0.00868\tvalidation_1-error:0.00150\tvalidation_1-logloss:0.00850\n",
      "[37]\tvalidation_0-error:0.00147\tvalidation_0-logloss:0.00828\tvalidation_1-error:0.00145\tvalidation_1-logloss:0.00811\n",
      "[38]\tvalidation_0-error:0.00142\tvalidation_0-logloss:0.00763\tvalidation_1-error:0.00138\tvalidation_1-logloss:0.00746\n",
      "[39]\tvalidation_0-error:0.00141\tvalidation_0-logloss:0.00758\tvalidation_1-error:0.00137\tvalidation_1-logloss:0.00741\n",
      "[40]\tvalidation_0-error:0.00141\tvalidation_0-logloss:0.00739\tvalidation_1-error:0.00137\tvalidation_1-logloss:0.00722\n",
      "[41]\tvalidation_0-error:0.00139\tvalidation_0-logloss:0.00724\tvalidation_1-error:0.00135\tvalidation_1-logloss:0.00708\n",
      "[42]\tvalidation_0-error:0.00121\tvalidation_0-logloss:0.00677\tvalidation_1-error:0.00118\tvalidation_1-logloss:0.00662\n",
      "[43]\tvalidation_0-error:0.00117\tvalidation_0-logloss:0.00631\tvalidation_1-error:0.00115\tvalidation_1-logloss:0.00616\n",
      "[44]\tvalidation_0-error:0.00095\tvalidation_0-logloss:0.00600\tvalidation_1-error:0.00088\tvalidation_1-logloss:0.00584\n",
      "[45]\tvalidation_0-error:0.00096\tvalidation_0-logloss:0.00595\tvalidation_1-error:0.00089\tvalidation_1-logloss:0.00579\n",
      "[46]\tvalidation_0-error:0.00095\tvalidation_0-logloss:0.00569\tvalidation_1-error:0.00088\tvalidation_1-logloss:0.00552\n",
      "[47]\tvalidation_0-error:0.00096\tvalidation_0-logloss:0.00547\tvalidation_1-error:0.00089\tvalidation_1-logloss:0.00530\n",
      "[48]\tvalidation_0-error:0.00095\tvalidation_0-logloss:0.00517\tvalidation_1-error:0.00088\tvalidation_1-logloss:0.00500\n",
      "[49]\tvalidation_0-error:0.00087\tvalidation_0-logloss:0.00498\tvalidation_1-error:0.00079\tvalidation_1-logloss:0.00485\n",
      "[50]\tvalidation_0-error:0.00084\tvalidation_0-logloss:0.00484\tvalidation_1-error:0.00076\tvalidation_1-logloss:0.00470\n",
      "[51]\tvalidation_0-error:0.00083\tvalidation_0-logloss:0.00482\tvalidation_1-error:0.00076\tvalidation_1-logloss:0.00467\n",
      "[52]\tvalidation_0-error:0.00084\tvalidation_0-logloss:0.00461\tvalidation_1-error:0.00076\tvalidation_1-logloss:0.00447\n",
      "[53]\tvalidation_0-error:0.00082\tvalidation_0-logloss:0.00455\tvalidation_1-error:0.00074\tvalidation_1-logloss:0.00440\n",
      "[54]\tvalidation_0-error:0.00080\tvalidation_0-logloss:0.00444\tvalidation_1-error:0.00072\tvalidation_1-logloss:0.00430\n",
      "[55]\tvalidation_0-error:0.00077\tvalidation_0-logloss:0.00426\tvalidation_1-error:0.00070\tvalidation_1-logloss:0.00414\n",
      "[56]\tvalidation_0-error:0.00081\tvalidation_0-logloss:0.00413\tvalidation_1-error:0.00073\tvalidation_1-logloss:0.00400\n",
      "[57]\tvalidation_0-error:0.00081\tvalidation_0-logloss:0.00412\tvalidation_1-error:0.00073\tvalidation_1-logloss:0.00399\n",
      "[58]\tvalidation_0-error:0.00076\tvalidation_0-logloss:0.00401\tvalidation_1-error:0.00069\tvalidation_1-logloss:0.00390\n",
      "[59]\tvalidation_0-error:0.00073\tvalidation_0-logloss:0.00389\tvalidation_1-error:0.00068\tvalidation_1-logloss:0.00378\n",
      "[60]\tvalidation_0-error:0.00073\tvalidation_0-logloss:0.00386\tvalidation_1-error:0.00067\tvalidation_1-logloss:0.00375\n",
      "[61]\tvalidation_0-error:0.00072\tvalidation_0-logloss:0.00381\tvalidation_1-error:0.00067\tvalidation_1-logloss:0.00370\n",
      "[62]\tvalidation_0-error:0.00074\tvalidation_0-logloss:0.00374\tvalidation_1-error:0.00068\tvalidation_1-logloss:0.00362\n",
      "[63]\tvalidation_0-error:0.00074\tvalidation_0-logloss:0.00369\tvalidation_1-error:0.00067\tvalidation_1-logloss:0.00358\n",
      "[64]\tvalidation_0-error:0.00072\tvalidation_0-logloss:0.00354\tvalidation_1-error:0.00065\tvalidation_1-logloss:0.00343\n",
      "[65]\tvalidation_0-error:0.00070\tvalidation_0-logloss:0.00349\tvalidation_1-error:0.00065\tvalidation_1-logloss:0.00339\n",
      "[66]\tvalidation_0-error:0.00070\tvalidation_0-logloss:0.00348\tvalidation_1-error:0.00065\tvalidation_1-logloss:0.00339\n",
      "[67]\tvalidation_0-error:0.00068\tvalidation_0-logloss:0.00343\tvalidation_1-error:0.00062\tvalidation_1-logloss:0.00334\n",
      "[68]\tvalidation_0-error:0.00068\tvalidation_0-logloss:0.00341\tvalidation_1-error:0.00062\tvalidation_1-logloss:0.00332\n",
      "[69]\tvalidation_0-error:0.00068\tvalidation_0-logloss:0.00329\tvalidation_1-error:0.00062\tvalidation_1-logloss:0.00321\n"
     ]
    },
    {
     "name": "stdout",
     "output_type": "stream",
     "text": [
      "\n",
      "학습 소요시간: 29.77 초\n",
      "\n",
      "-----------------------------------------\n",
      "\n",
      "■ XGBoost 학습 평가 결과: \n",
      "\n",
      "오차행렬\n",
      " [[436708    123]\n",
      " [   187  60864]]\n",
      "정확도: 1.00\n",
      "\n",
      "■ XGBoost 학습 모델 저장 \n",
      "\n",
      "./model/MD_model.pkl\n"
     ]
    },
    {
     "data": {
      "text/plain": [
       "['./model/MD_model.pkl']"
      ]
     },
     "execution_count": 5,
     "metadata": {},
     "output_type": "execute_result"
    },
    {
     "data": {
      "image/png": "[encoded data removed]",
      "text/plain": [
       "<Figure size 432x288 with 1 Axes>"
      ]
     },
     "metadata": {
      "needs_background": "light"
     },
     "output_type": "display_data"
    },
    {
     "data": {
      "image/png": "[encoded data removed]",
      "text/plain": [
       "<Figure size 432x288 with 1 Axes>"
      ]
     },
     "metadata": {
      "needs_background": "light"
     },
     "output_type": "display_data"
    },
    {
     "data": {
      "image/png": "[encoded data removed]",
      "text/plain": [
       "<Figure size 432x288 with 1 Axes>"
      ]
     },
     "metadata": {
      "needs_background": "light"
     },
     "output_type": "display_data"
    }
   ],
   "source": [
    "df = one_df\n",
    "\n",
    "if dev_id == '...':\n",
    "    X = df.drop(columns=[target, ts])\n",
    "else:\n",
    "    X = df.drop(columns=[target, ts, dev_id])\n",
    "y = df[target]\n",
    "\n",
    "# 학습용 평가용 데이터 분리\n",
    "X_train, X_test, y_train, y_test = train_test_split(X, y, test_size = 0.2)\n",
    "   \n",
    "# XGBoost 모델 적용\n",
    "print(\"-----------------------------------------\")\n",
    "print(\"\\n■ XGBoost 학습 시작: \\n\")\n",
    "\n",
    "start = time.time()\n",
    "\n",
    "########################################################################################\n",
    "# 머신러닝 학습 조건 사용자 설정 (학습 반복횟수, 결정트리 최대 깊이, 평가 메트릭 등)\n",
    "xgb_clf = XGBClassifier(n_estimators=70, max_depth=5, use_label_encoder=False, eval_metric=[\"error\", \"logloss\"])\n",
    "\n",
    "########################################################################################\n",
    "\n",
    "eval_set = [(X_train, y_train), (X_test, y_test)]\n",
    "xgb_clf.fit(X_train, y_train, eval_set=eval_set, verbose=True, eval_metric=[\"error\", \"logloss\"])\n",
    "end = time.time()\n",
    "print('\\n학습 소요시간:' , round(end-start,2), '초\\n')\n",
    "\n",
    "print(\"-----------------------------------------\")\n",
    "print(\"\\n■ XGBoost 학습 평가 결과: \\n\")\n",
    "\n",
    "# 결과 도출하기\n",
    "def get_clf_eval(y_test, pred, xgb_clf):\n",
    "    confusion = confusion_matrix(y_test, pred)\n",
    "    accuracy = accuracy_score(y_test, pred)\n",
    "    print('오차행렬\\n', confusion)\n",
    "    print('정확도: {:.2f}'.format(accuracy))\n",
    "\n",
    "    '''\n",
    "       # 중요도 결과 가시화(그림 저장)\n",
    "    '''\n",
    "    from xgboost.plotting import plot_importance\n",
    "    import matplotlib.pyplot as plt\n",
    "    plot_importance(xgb_clf)\n",
    "    plt.savefig('XGBoost_importance.png', bbox_inches='tight')\n",
    "\n",
    "    '''\n",
    "       # Epoch에 따른 학습 과정 가시화(그림 저장)\n",
    "    '''\n",
    "    from matplotlib import pyplot as plt\n",
    "    results = xgb_clf.evals_result()\n",
    "    epochs = len(results['validation_0']['error'])\n",
    "    x_axis = range(0, epochs)\n",
    "    # plot log loss\n",
    "    fig, ax = plt.subplots()\n",
    "    ax.plot(x_axis, results['validation_0']['logloss'], label='Train')\n",
    "    ax.plot(x_axis, results['validation_1']['logloss'], label='Test')\n",
    "    ax.legend()\n",
    "    plt.ylabel('Log Loss')\n",
    "    plt.title('XGBoost Log Loss')\n",
    "    plt.savefig('XGBoost_Log_Loss.png')\n",
    "    # plot classification error\n",
    "    fig, ax = plt.subplots()\n",
    "    ax.plot(x_axis, results['validation_0']['error'], label='Train')\n",
    "    ax.plot(x_axis, results['validation_1']['error'], label='Test')\n",
    "    ax.legend()\n",
    "    plt.ylabel('Classification Error')\n",
    "    plt.title('XGBoost Classification Error')\n",
    "\n",
    "get_clf_eval(y_test, xgb_clf.predict(X_test), xgb_clf)\n",
    "\n",
    "\n",
    "##################################################################\n",
    "# 학습결과 모델을 pickle 파일로 저장 (디렉토리, 파일명 사용자 설정)\n",
    "directory = './model/'\n",
    "model_filename='MD_model'\n",
    "##################################################################\n",
    "\n",
    "try: \n",
    "    if not os.path.exists(directory): \n",
    "        os.makedirs(directory) \n",
    "except OSError: \n",
    "    print(\"Error: Failed to create the directory.\")\n",
    "print(\"\\n■ XGBoost 학습 모델 저장 \\n\")\n",
    "save_file = directory+model_filename+'.pkl'\n",
    "print(save_file)\n",
    "joblib.dump(xgb_clf, save_file)"
   ]
  }
 ],
 "metadata": {
  "kernelspec": {
   "display_name": "Python 3 (ipykernel)",
   "language": "python",
   "name": "python3"
  },
  "language_info": {
   "codemirror_mode": {
    "name": "ipython",
    "version": 3
   },
   "file_extension": ".py",
   "mimetype": "text/x-python",
   "name": "python",
   "nbconvert_exporter": "python",
   "pygments_lexer": "ipython3",
   "version": "3.8.10"
  }
 },
 "nbformat": 4,
 "nbformat_minor": 5
}
