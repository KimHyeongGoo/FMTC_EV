{
 "cells": [
  {
   "cell_type": "code",
   "execution_count": null,
   "id": "aaaa6eca",
   "metadata": {},
   "outputs": [],
   "source": [
    "# 필요한 라이브러리 임포트\n",
    "import pandas as pd\n",
    "import matplotlib.pyplot as plt\n",
    "import seaborn as sns"
   ]
  },
  {
   "cell_type": "code",
   "execution_count": null,
   "id": "e239eac3",
   "metadata": {},
   "outputs": [],
   "source": [
    "# 데이터 로드\n",
    "data_2022 = pd.read_csv('https://raw.githubusercontent.com/KimHyeongGoo/FMTC_EV/main/code/%EB%8D%B0%EC%9D%B4%ED%84%B0%20%EB%B6%84%EC%84%9D/%EB%B0%A9%EC%A0%84%EA%B5%AC%EA%B0%84%20%EB%B6%84%EC%84%9D/data/2022_discharge_merged_statistics.csv')\n",
    "data_2204 = pd.read_csv('https://raw.githubusercontent.com/KimHyeongGoo/FMTC_EV/main/code/%EB%8D%B0%EC%9D%B4%ED%84%B0%20%EB%B6%84%EC%84%9D/%EB%B0%A9%EC%A0%84%EA%B5%AC%EA%B0%84%20%EB%B6%84%EC%84%9D/data/2204_discharge_merged_statistics.csv')\n",
    "data_2205 = pd.read_csv('https://raw.githubusercontent.com/KimHyeongGoo/FMTC_EV/main/code/%EB%8D%B0%EC%9D%B4%ED%84%B0%20%EB%B6%84%EC%84%9D/%EB%B0%A9%EC%A0%84%EA%B5%AC%EA%B0%84%20%EB%B6%84%EC%84%9D/data/2205_discharge_merged_statistics.csv')\n",
    "data_2207 = pd.read_csv('https://raw.githubusercontent.com/KimHyeongGoo/FMTC_EV/main/code/%EB%8D%B0%EC%9D%B4%ED%84%B0%20%EB%B6%84%EC%84%9D/%EB%B0%A9%EC%A0%84%EA%B5%AC%EA%B0%84%20%EB%B6%84%EC%84%9D/data/2207_discharge_merged_statistics.csv')\n",
    "data_2208 = pd.read_csv('https://raw.githubusercontent.com/KimHyeongGoo/FMTC_EV/main/code/%EB%8D%B0%EC%9D%B4%ED%84%B0%20%EB%B6%84%EC%84%9D/%EB%B0%A9%EC%A0%84%EA%B5%AC%EA%B0%84%20%EB%B6%84%EC%84%9D/data/2208_discharge_merged_statistics.csv')"
   ]
  },
  {
   "cell_type": "code",
   "execution_count": null,
   "id": "5a45b4c9",
   "metadata": {},
   "outputs": [],
   "source": [
    "# 데이터의 처음 몇 줄을 확인하여 구조 파악\n",
    "print(\"2022년 1~3월 데이터의 처음 5줄:\")\n",
    "data_2022.head()"
   ]
  },
  {
   "cell_type": "code",
   "execution_count": null,
   "id": "4cd7ce58",
   "metadata": {},
   "outputs": [],
   "source": [
    "print(\"\\n2022년 4월 데이터의 처음 5줄:\")\n",
    "data_2204.head()"
   ]
  },
  {
   "cell_type": "code",
   "execution_count": null,
   "id": "f2fa3c77",
   "metadata": {},
   "outputs": [],
   "source": [
    "print(\"\\n2022년 8월 데이터의 처음 5줄:\")\n",
    "data_2208.head()"
   ]
  },
  {
   "cell_type": "code",
   "execution_count": null,
   "id": "155e4325",
   "metadata": {},
   "outputs": [],
   "source": [
    "# 날짜 정보를 datetime 형식으로 변환\n",
    "data_2022['date_start'] = pd.to_datetime(data_2022['date_start'])\n",
    "data_2204['date_start'] = pd.to_datetime(data_2204['date_start'])\n",
    "data_2205['date_start'] = pd.to_datetime(data_2205['date_start'])\n",
    "data_2207['date_start'] = pd.to_datetime(data_2207['date_start'])\n",
    "data_2208['date_start'] = pd.to_datetime(data_2208['date_start'])\n",
    "\n",
    "# 월 정보 추가\n",
    "data_2022['month'] = data_2022['date_start'].dt.month\n",
    "data_2204['month'] = data_2204['date_start'].dt.month\n",
    "data_2205['month'] = data_2205['date_start'].dt.month\n",
    "data_2207['month'] = data_2207['date_start'].dt.month\n",
    "data_2208['month'] = data_2208['date_start'].dt.month\n",
    "\n",
    "# 데이터를 하나로 합치기\n",
    "combined_data = pd.concat([data_2022, data_2204, data_2205, data_2207, data_2208])\n",
    "combined_data = combined_data[combined_data['month'].isin([1, 2, 4, 5, 7, 8])]\n",
    "combined_data"
   ]
  },
  {
   "cell_type": "markdown",
   "id": "54d9810d",
   "metadata": {},
   "source": [
    "## 예제1) 월별 평균 전비, 방전 속도 비교\n",
    "- 필드정보\n",
    "  - 월 : month\n",
    "  - 전비 : km_per_kWh\n",
    "  - 방전속도 : discharge_speed"
   ]
  },
  {
   "cell_type": "code",
   "execution_count": null,
   "id": "66626aaf",
   "metadata": {},
   "outputs": [],
   "source": [
    "# 월별 평균 전비, 방전 속도 계산\n",
    "monthly_stats = combined_data.groupby('month').agg({\n",
    "    '': 'mean',  # 전비 필드 삽입\n",
    "    '': 'mean'  # 방전속도 필드 삽입\n",
    "}).reset_index()\n",
    "monthly_stats"
   ]
  },
  {
   "cell_type": "code",
   "execution_count": null,
   "id": "c54ea9a5",
   "metadata": {},
   "outputs": [],
   "source": [
    "# 시각화: 월별 평균 방전량, 방전 시간, 방전 속도\n",
    "plt.figure(figsize=(18, 6))\n",
    "\n",
    "# 평균 방전량\n",
    "plt.subplot(1, 2, 1)\n",
    "sns.barplot(x='', y='', data=monthly_stats)   # x축(월), y출(전비) 필드 삽입\n",
    "plt.ylabel('km per KWH')\n",
    "\n",
    "# 평균 방전 속도\n",
    "plt.subplot(1, 2, 2)\n",
    "sns.barplot(x='', y='', data=monthly_stats)   # x축(월), y출(방전속도) 필드 삽입\n",
    "plt.ylabel('discharging speed')\n",
    "\n",
    "plt.tight_layout()\n",
    "plt.show()"
   ]
  },
  {
   "cell_type": "markdown",
   "id": "05fea5f8",
   "metadata": {},
   "source": [
    "## 예제2) 차량 종류별 평균 전비, 방전 속도 비교\n",
    "- 필드정보\n",
    "  - 차량 종류 : car_type\n",
    "  - 전비 : km_per_kWh\n",
    "  - 방전속도 : discharge_speed"
   ]
  },
  {
   "cell_type": "code",
   "execution_count": null,
   "id": "a7a31a6e",
   "metadata": {},
   "outputs": [],
   "source": [
    "# 차량 종류별 평균 전비와 방전 속도 계산\n",
    "car_type_stats = combined_data.groupby('car_type').agg({\n",
    "    '': 'mean', # 전비 필드 삽입\n",
    "    '': 'mean'  # 방전속도 필드 삽입\n",
    "}).reset_index()\n",
    "\n",
    "print(\"\\n차량 종류별 평균 전비와 방전 속도:\")\n",
    "car_type_stats"
   ]
  },
  {
   "cell_type": "code",
   "execution_count": null,
   "id": "f7fafb7d",
   "metadata": {},
   "outputs": [],
   "source": [
    "# 시각화: 차량 종류별 평균 전비와 방전 속도\n",
    "plt.figure(figsize=(18, 6))\n",
    "\n",
    "# 평균 전비\n",
    "plt.subplot(1, 2, 1)\n",
    "sns.barplot(x='', y='', data=car_type_stats)   # x축(차량종류), y출(전비) 필드 삽입\n",
    "plt.ylabel('(km/kWh)')\n",
    "plt.xticks(rotation=45)\n",
    "\n",
    "# 평균 방전 속도\n",
    "plt.subplot(1, 2, 2)\n",
    "sns.barplot(x='', y='', data=car_type_stats)   # x축(차량종류), y출(방전속도) 필드 삽입\n",
    "plt.ylabel('discharging speed(kW)')\n",
    "plt.xticks(rotation=45)\n",
    "\n",
    "plt.tight_layout()\n",
    "plt.show()"
   ]
  },
  {
   "cell_type": "code",
   "execution_count": null,
   "id": "f25ac7c9",
   "metadata": {},
   "outputs": [],
   "source": []
  }
 ],
 "metadata": {
  "kernelspec": {
   "display_name": "Python 3 (ipykernel)",
   "language": "python",
   "name": "python3"
  },
  "language_info": {
   "codemirror_mode": {
    "name": "ipython",
    "version": 3
   },
   "file_extension": ".py",
   "mimetype": "text/x-python",
   "name": "python",
   "nbconvert_exporter": "python",
   "pygments_lexer": "ipython3",
   "version": "3.8.10"
  }
 },
 "nbformat": 4,
 "nbformat_minor": 5
}
