{
 "cells": [
  {
   "cell_type": "code",
   "execution_count": 1,
   "id": "ba2b2367",
   "metadata": {
    "scrolled": true
   },
   "outputs": [
    {
     "name": "stderr",
     "output_type": "stream",
     "text": [
      "/home/srjung/.local/lib/python3.8/site-packages/xgboost/compat.py:36: FutureWarning: pandas.Int64Index is deprecated and will be removed from pandas in a future version. Use pandas.Index with the appropriate dtype instead.\n",
      "  from pandas import MultiIndex, Int64Index\n",
      "/usr/local/lib/python3.8/dist-packages/pkg_resources/__init__.py:123: PkgResourcesDeprecationWarning: 0.23ubuntu1 is an invalid version and will not be supported in a future release\n",
      "  warnings.warn(\n",
      "/usr/local/lib/python3.8/dist-packages/pkg_resources/__init__.py:123: PkgResourcesDeprecationWarning: 1.13.1-unknown is an invalid version and will not be supported in a future release\n",
      "  warnings.warn(\n",
      "/usr/local/lib/python3.8/dist-packages/pkg_resources/__init__.py:123: PkgResourcesDeprecationWarning: 0.1.36ubuntu1 is an invalid version and will not be supported in a future release\n",
      "  warnings.warn(\n"
     ]
    }
   ],
   "source": [
    "import pandas as pd\n",
    "import sys\n",
    "import os\n",
    "from dateutil.parser import parse\n",
    "from pandas.core.common import flatten\n",
    "import time\n",
    "import numpy as np\n",
    "import json\n",
    "from pprint import pprint \n",
    "from psycopg2 import connect\n",
    "from more_itertools import locate\n",
    "from sklearn.preprocessing import StandardScaler\n",
    "from sklearn.model_selection import train_test_split\n",
    "from sklearn.ensemble import RandomForestClassifier\n",
    "from xgboost import XGBClassifier\n",
    "from sklearn.metrics import confusion_matrix, accuracy_score, recall_score\n",
    "import joblib\n",
    "import warnings\n",
    "warnings.filterwarnings(\"ignore\")"
   ]
  },
  {
   "cell_type": "markdown",
   "id": "4790a085",
   "metadata": {},
   "source": [
    "## 머신러닝 학습 및 판단 개요"
   ]
  },
  {
   "cell_type": "markdown",
   "id": "65d93085",
   "metadata": {},
   "source": [
    "![nn](demo_img.png)"
   ]
  },
  {
   "cell_type": "markdown",
   "id": "1c96ed03",
   "metadata": {},
   "source": [
    "## 인자값 입력\n",
    "### 1) 학습에 활용할 입력 데이터 필드 선택 (사용자 설정: COL NAME 입력)\n",
    "### 2) 출력 필드 선택 (사용자 설정: TARGET NAME 입력)"
   ]
  },
  {
   "cell_type": "code",
   "execution_count": 2,
   "id": "38dcc9fb",
   "metadata": {},
   "outputs": [],
   "source": [
    "#########################################\n",
    "# 입력 데이터 필드\n",
    "# 사용자 입력 COL_NAME as COL\n",
    "col='b_soc|b_pack_current|b_pack_volt|b_moter_rpm|b_modul_1_temp|b_modul_2_temp|b_cell1_volt|b_max_chargable_power|b_inverter_capa_volt'\n",
    "#########################################\n",
    "\n",
    "col = list(col.split(\"|\"))\n",
    "ts='coll_dt'\n",
    "dev_id='dev_id'\n",
    "\n",
    "#########################################\n",
    "# 출력 필드\n",
    "# 사용자 입력 TARGET_NAME as TARGET\n",
    "target='b_fast_charg_con_sts'\n",
    "#########################################"
   ]
  },
  {
   "cell_type": "markdown",
   "id": "d069f478",
   "metadata": {},
   "source": [
    "## (사용자 설정 디렉토리 내) 학습대상 파일 리스트 자동 추출"
   ]
  },
  {
   "cell_type": "code",
   "execution_count": 3,
   "id": "3f14d04b",
   "metadata": {},
   "outputs": [
    {
     "name": "stdout",
     "output_type": "stream",
     "text": [
      " [loop] recursive searching  MD_demo_training_data \n",
      "\n",
      "['MD_demo_training_data/M1200606115.csv', 'MD_demo_training_data/M1200606106.csv', 'MD_demo_training_data/M1200606160.csv', 'MD_demo_training_data/M1200606110.csv', 'MD_demo_training_data/M1200606101.csv', 'MD_demo_training_data/M1200606102.csv', 'MD_demo_training_data/M1200606128.csv', 'MD_demo_training_data/M1200606112.csv', 'MD_demo_training_data/M1200606103.csv', 'MD_demo_training_data/M1200606104_2.csv', 'MD_demo_training_data/M1200606104_1.csv', 'MD_demo_training_data/M1200606117.csv']\n"
     ]
    }
   ],
   "source": [
    "#########################################\n",
    "# 학습대상 파일 디렉토리 설정\n",
    "path='MD_demo_training_data'\n",
    "#########################################\n",
    "\n",
    "def recursive_search_dir(_nowDir, _filelist):\n",
    "    print(\" [loop] recursive searching \", _nowDir, '\\n')\n",
    "\n",
    "    if os.path.isfile(_nowDir):\n",
    "        _filelist.append(_nowDir)\n",
    "        return None\n",
    "\n",
    "    dir_list = []  # 현재 디렉토리의 서브디렉토리가 담길 list\n",
    "    \n",
    "    f_list = os.listdir(_nowDir)\n",
    "    for fname in f_list:\n",
    "        if os.path.isdir(_nowDir + \"/\" + fname):\n",
    "            dir_list.append(_nowDir + \"/\" + fname)\n",
    "        elif os.path.isfile(_nowDir + \"/\" + fname):\n",
    "            _filelist.append(_nowDir + \"/\" + fname)\n",
    "\n",
    "    for toDir in dir_list:\n",
    "        recursive_search_dir(toDir, _filelist)\n",
    "\n",
    "file_list = []\n",
    "recursive_search_dir(path, file_list)\n",
    "\n",
    "if len(file_list) == 0:      \n",
    "    exit('\\n\\\"' + _path + '\\\" 경로에 파일이 없습니다. 데이터셋이 있는지 확인해주세요.')\n",
    "    \n",
    "print(file_list)"
   ]
  },
  {
   "cell_type": "markdown",
   "id": "cd81586f",
   "metadata": {},
   "source": [
    "## CSV 파일을 데이터프레임으로 변환"
   ]
  },
  {
   "cell_type": "code",
   "execution_count": 4,
   "id": "c5b80cdc",
   "metadata": {},
   "outputs": [
    {
     "name": "stdout",
     "output_type": "stream",
     "text": [
      "              dev_id                  coll_dt  b_soc  b_pack_current  \\\n",
      "0        M1200606115  2021-11-15 19:07:17.000   79.0             0.9   \n",
      "1        M1200606115  2021-11-15 19:07:19.000   79.0             0.9   \n",
      "2        M1200606115  2021-11-15 19:07:20.000   79.0             0.9   \n",
      "3        M1200606115  2021-11-15 19:07:21.000   79.0             1.0   \n",
      "4        M1200606115  2021-11-15 19:07:22.000   79.0             0.9   \n",
      "...              ...                      ...    ...             ...   \n",
      "2489404  M1200606117  2021-12-08 17:24:20.000   58.5             1.4   \n",
      "2489405  M1200606117  2021-12-08 17:24:22.000   58.5             1.5   \n",
      "2489406  M1200606117  2021-12-08 17:24:24.000   58.5             0.0   \n",
      "2489407  M1200606117  2021-12-08 20:49:27.000   58.5             0.0   \n",
      "2489408  M1200606117  2021-12-08 23:07:46.000   58.5             0.0   \n",
      "\n",
      "         b_pack_volt  b_inverter_capa_volt  b_moter_rpm  \\\n",
      "0              387.5                 388.0          0.0   \n",
      "1              387.5                 388.0          0.0   \n",
      "2              387.5                 388.0          0.0   \n",
      "3              387.5                 388.0          0.0   \n",
      "4              387.5                 388.0          0.0   \n",
      "...              ...                   ...          ...   \n",
      "2489404        371.8                 372.0          0.0   \n",
      "2489405        371.8                 372.0          0.0   \n",
      "2489406        371.8                 365.0          0.0   \n",
      "2489407        372.2                   1.0          0.0   \n",
      "2489408        372.1                   2.0          0.0   \n",
      "\n",
      "         b_max_chargable_power  b_fast_charg_con_sts  b_modul_1_temp  \\\n",
      "0                       145.15                   0.0            18.0   \n",
      "1                       145.15                   0.0            18.0   \n",
      "2                       145.15                   0.0            18.0   \n",
      "3                       145.15                   0.0            18.0   \n",
      "4                       145.15                   0.0            18.0   \n",
      "...                        ...                   ...             ...   \n",
      "2489404                 170.00                   0.0            30.0   \n",
      "2489405                 170.00                   0.0            30.0   \n",
      "2489406                 170.00                   0.0            30.0   \n",
      "2489407                 170.00                   0.0            24.0   \n",
      "2489408                 170.00                   0.0            21.0   \n",
      "\n",
      "         b_modul_2_temp  b_cell1_volt  \n",
      "0                  17.0          3.94  \n",
      "1                  17.0          3.94  \n",
      "2                  17.0          3.94  \n",
      "3                  17.0          3.94  \n",
      "4                  17.0          3.94  \n",
      "...                 ...           ...  \n",
      "2489404            29.0          3.78  \n",
      "2489405            29.0          3.78  \n",
      "2489406            29.0          3.78  \n",
      "2489407            25.0          3.78  \n",
      "2489408            22.0          3.78  \n",
      "\n",
      "[2489409 rows x 12 columns]\n"
     ]
    }
   ],
   "source": [
    "colm = [dev_id, ts, target]\n",
    "if dev_id == '...':\n",
    "    colm.remove(dev_id)\n",
    "\n",
    "colm = col + colm\n",
    "\n",
    "all_df = []\n",
    "for file in file_list:\n",
    "    f_extension = os.path.splitext(file)[1]\n",
    "    if f_extension == \".csv\" or f_extension == \".CSV\":\n",
    "        df = pd.read_csv(file, usecols=colm)\n",
    "        df = df.dropna()\n",
    "        df.sort_values(by=[ts],axis=0)\n",
    "        all_df.append(df)\n",
    "        \n",
    "    '''\n",
    "      # 모든 파일 데이터를 단일 데이터로 병합\n",
    "    '''\n",
    "one_df = pd.DataFrame()\n",
    "for i in range(len(all_df)):\n",
    "    one_df = pd.concat([one_df, all_df[i]], ignore_index=True)\n",
    "\n",
    "print(one_df)"
   ]
  },
  {
   "cell_type": "markdown",
   "id": "b9e197ce",
   "metadata": {},
   "source": [
    "## 머신러닝 학습 및 모델 저장"
   ]
  },
  {
   "cell_type": "code",
   "execution_count": 5,
   "id": "836c6d92",
   "metadata": {},
   "outputs": [
    {
     "name": "stdout",
     "output_type": "stream",
     "text": [
      "-----------------------------------------\n",
      "\n",
      "■ XGBoost 학습 시작: \n",
      "\n",
      "[0]\tvalidation_0-error:0.01335\tvalidation_0-logloss:0.44922\tvalidation_1-error:0.01345\tvalidation_1-logloss:0.44931\n",
      "[1]\tvalidation_0-error:0.01298\tvalidation_0-logloss:0.31438\tvalidation_1-error:0.01302\tvalidation_1-logloss:0.31462\n",
      "[2]\tvalidation_0-error:0.01282\tvalidation_0-logloss:0.22918\tvalidation_1-error:0.01283\tvalidation_1-logloss:0.22931\n",
      "[3]\tvalidation_0-error:0.01266\tvalidation_0-logloss:0.17210\tvalidation_1-error:0.01270\tvalidation_1-logloss:0.17237\n",
      "[4]\tvalidation_0-error:0.01171\tvalidation_0-logloss:0.13066\tvalidation_1-error:0.01171\tvalidation_1-logloss:0.13096\n",
      "[5]\tvalidation_0-error:0.01185\tvalidation_0-logloss:0.10201\tvalidation_1-error:0.01191\tvalidation_1-logloss:0.10244\n",
      "[6]\tvalidation_0-error:0.01094\tvalidation_0-logloss:0.08188\tvalidation_1-error:0.01106\tvalidation_1-logloss:0.08232\n",
      "[7]\tvalidation_0-error:0.01118\tvalidation_0-logloss:0.06693\tvalidation_1-error:0.01135\tvalidation_1-logloss:0.06741\n",
      "[8]\tvalidation_0-error:0.01043\tvalidation_0-logloss:0.05620\tvalidation_1-error:0.01060\tvalidation_1-logloss:0.05665\n",
      "[9]\tvalidation_0-error:0.01042\tvalidation_0-logloss:0.04794\tvalidation_1-error:0.01057\tvalidation_1-logloss:0.04839\n",
      "[10]\tvalidation_0-error:0.01029\tvalidation_0-logloss:0.04196\tvalidation_1-error:0.01038\tvalidation_1-logloss:0.04238\n",
      "[11]\tvalidation_0-error:0.01031\tvalidation_0-logloss:0.03723\tvalidation_1-error:0.01040\tvalidation_1-logloss:0.03771\n",
      "[12]\tvalidation_0-error:0.00974\tvalidation_0-logloss:0.03371\tvalidation_1-error:0.00988\tvalidation_1-logloss:0.03420\n",
      "[13]\tvalidation_0-error:0.00980\tvalidation_0-logloss:0.03057\tvalidation_1-error:0.00996\tvalidation_1-logloss:0.03102\n",
      "[14]\tvalidation_0-error:0.00978\tvalidation_0-logloss:0.02838\tvalidation_1-error:0.00993\tvalidation_1-logloss:0.02881\n",
      "[15]\tvalidation_0-error:0.00933\tvalidation_0-logloss:0.02475\tvalidation_1-error:0.00949\tvalidation_1-logloss:0.02517\n",
      "[16]\tvalidation_0-error:0.00851\tvalidation_0-logloss:0.02322\tvalidation_1-error:0.00876\tvalidation_1-logloss:0.02364\n",
      "[17]\tvalidation_0-error:0.00847\tvalidation_0-logloss:0.02225\tvalidation_1-error:0.00871\tvalidation_1-logloss:0.02262\n",
      "[18]\tvalidation_0-error:0.00636\tvalidation_0-logloss:0.02028\tvalidation_1-error:0.00654\tvalidation_1-logloss:0.02063\n",
      "[19]\tvalidation_0-error:0.00620\tvalidation_0-logloss:0.01896\tvalidation_1-error:0.00638\tvalidation_1-logloss:0.01933\n",
      "[20]\tvalidation_0-error:0.00618\tvalidation_0-logloss:0.01833\tvalidation_1-error:0.00636\tvalidation_1-logloss:0.01867\n",
      "[21]\tvalidation_0-error:0.00557\tvalidation_0-logloss:0.01758\tvalidation_1-error:0.00577\tvalidation_1-logloss:0.01794\n",
      "[22]\tvalidation_0-error:0.00537\tvalidation_0-logloss:0.01674\tvalidation_1-error:0.00560\tvalidation_1-logloss:0.01707\n",
      "[23]\tvalidation_0-error:0.00536\tvalidation_0-logloss:0.01637\tvalidation_1-error:0.00560\tvalidation_1-logloss:0.01669\n",
      "[24]\tvalidation_0-error:0.00390\tvalidation_0-logloss:0.01451\tvalidation_1-error:0.00409\tvalidation_1-logloss:0.01481\n",
      "[25]\tvalidation_0-error:0.00324\tvalidation_0-logloss:0.01319\tvalidation_1-error:0.00344\tvalidation_1-logloss:0.01352\n",
      "[26]\tvalidation_0-error:0.00326\tvalidation_0-logloss:0.01287\tvalidation_1-error:0.00343\tvalidation_1-logloss:0.01321\n",
      "[27]\tvalidation_0-error:0.00328\tvalidation_0-logloss:0.01223\tvalidation_1-error:0.00343\tvalidation_1-logloss:0.01256\n",
      "[28]\tvalidation_0-error:0.00246\tvalidation_0-logloss:0.01155\tvalidation_1-error:0.00263\tvalidation_1-logloss:0.01188\n",
      "[29]\tvalidation_0-error:0.00241\tvalidation_0-logloss:0.01082\tvalidation_1-error:0.00259\tvalidation_1-logloss:0.01115\n",
      "[30]\tvalidation_0-error:0.00216\tvalidation_0-logloss:0.01014\tvalidation_1-error:0.00237\tvalidation_1-logloss:0.01049\n",
      "[31]\tvalidation_0-error:0.00204\tvalidation_0-logloss:0.00977\tvalidation_1-error:0.00225\tvalidation_1-logloss:0.01013\n",
      "[32]\tvalidation_0-error:0.00198\tvalidation_0-logloss:0.00960\tvalidation_1-error:0.00220\tvalidation_1-logloss:0.00996\n",
      "[33]\tvalidation_0-error:0.00169\tvalidation_0-logloss:0.00912\tvalidation_1-error:0.00190\tvalidation_1-logloss:0.00946\n",
      "[34]\tvalidation_0-error:0.00171\tvalidation_0-logloss:0.00897\tvalidation_1-error:0.00192\tvalidation_1-logloss:0.00930\n",
      "[35]\tvalidation_0-error:0.00176\tvalidation_0-logloss:0.00886\tvalidation_1-error:0.00195\tvalidation_1-logloss:0.00919\n",
      "[36]\tvalidation_0-error:0.00167\tvalidation_0-logloss:0.00873\tvalidation_1-error:0.00188\tvalidation_1-logloss:0.00906\n",
      "[37]\tvalidation_0-error:0.00160\tvalidation_0-logloss:0.00825\tvalidation_1-error:0.00177\tvalidation_1-logloss:0.00856\n",
      "[38]\tvalidation_0-error:0.00154\tvalidation_0-logloss:0.00790\tvalidation_1-error:0.00170\tvalidation_1-logloss:0.00821\n",
      "[39]\tvalidation_0-error:0.00155\tvalidation_0-logloss:0.00740\tvalidation_1-error:0.00170\tvalidation_1-logloss:0.00770\n",
      "[40]\tvalidation_0-error:0.00143\tvalidation_0-logloss:0.00714\tvalidation_1-error:0.00156\tvalidation_1-logloss:0.00745\n",
      "[41]\tvalidation_0-error:0.00129\tvalidation_0-logloss:0.00692\tvalidation_1-error:0.00142\tvalidation_1-logloss:0.00722\n",
      "[42]\tvalidation_0-error:0.00128\tvalidation_0-logloss:0.00673\tvalidation_1-error:0.00141\tvalidation_1-logloss:0.00703\n",
      "[43]\tvalidation_0-error:0.00129\tvalidation_0-logloss:0.00648\tvalidation_1-error:0.00142\tvalidation_1-logloss:0.00678\n",
      "[44]\tvalidation_0-error:0.00128\tvalidation_0-logloss:0.00643\tvalidation_1-error:0.00142\tvalidation_1-logloss:0.00672\n",
      "[45]\tvalidation_0-error:0.00112\tvalidation_0-logloss:0.00595\tvalidation_1-error:0.00127\tvalidation_1-logloss:0.00627\n",
      "[46]\tvalidation_0-error:0.00104\tvalidation_0-logloss:0.00578\tvalidation_1-error:0.00121\tvalidation_1-logloss:0.00609\n",
      "[47]\tvalidation_0-error:0.00103\tvalidation_0-logloss:0.00570\tvalidation_1-error:0.00119\tvalidation_1-logloss:0.00600\n",
      "[48]\tvalidation_0-error:0.00100\tvalidation_0-logloss:0.00549\tvalidation_1-error:0.00112\tvalidation_1-logloss:0.00577\n",
      "[49]\tvalidation_0-error:0.00095\tvalidation_0-logloss:0.00529\tvalidation_1-error:0.00101\tvalidation_1-logloss:0.00556\n",
      "[50]\tvalidation_0-error:0.00093\tvalidation_0-logloss:0.00498\tvalidation_1-error:0.00098\tvalidation_1-logloss:0.00526\n",
      "[51]\tvalidation_0-error:0.00092\tvalidation_0-logloss:0.00490\tvalidation_1-error:0.00096\tvalidation_1-logloss:0.00517\n",
      "[52]\tvalidation_0-error:0.00091\tvalidation_0-logloss:0.00487\tvalidation_1-error:0.00096\tvalidation_1-logloss:0.00515\n",
      "[53]\tvalidation_0-error:0.00084\tvalidation_0-logloss:0.00458\tvalidation_1-error:0.00092\tvalidation_1-logloss:0.00487\n",
      "[54]\tvalidation_0-error:0.00084\tvalidation_0-logloss:0.00456\tvalidation_1-error:0.00093\tvalidation_1-logloss:0.00484\n",
      "[55]\tvalidation_0-error:0.00080\tvalidation_0-logloss:0.00448\tvalidation_1-error:0.00089\tvalidation_1-logloss:0.00477\n",
      "[56]\tvalidation_0-error:0.00080\tvalidation_0-logloss:0.00423\tvalidation_1-error:0.00089\tvalidation_1-logloss:0.00453\n",
      "[57]\tvalidation_0-error:0.00078\tvalidation_0-logloss:0.00413\tvalidation_1-error:0.00090\tvalidation_1-logloss:0.00442\n",
      "[58]\tvalidation_0-error:0.00078\tvalidation_0-logloss:0.00411\tvalidation_1-error:0.00089\tvalidation_1-logloss:0.00441\n",
      "[59]\tvalidation_0-error:0.00078\tvalidation_0-logloss:0.00406\tvalidation_1-error:0.00089\tvalidation_1-logloss:0.00436\n",
      "[60]\tvalidation_0-error:0.00076\tvalidation_0-logloss:0.00394\tvalidation_1-error:0.00089\tvalidation_1-logloss:0.00424\n",
      "[61]\tvalidation_0-error:0.00076\tvalidation_0-logloss:0.00390\tvalidation_1-error:0.00088\tvalidation_1-logloss:0.00420\n",
      "[62]\tvalidation_0-error:0.00075\tvalidation_0-logloss:0.00386\tvalidation_1-error:0.00088\tvalidation_1-logloss:0.00416\n",
      "[63]\tvalidation_0-error:0.00073\tvalidation_0-logloss:0.00382\tvalidation_1-error:0.00086\tvalidation_1-logloss:0.00412\n",
      "[64]\tvalidation_0-error:0.00071\tvalidation_0-logloss:0.00369\tvalidation_1-error:0.00085\tvalidation_1-logloss:0.00399\n",
      "[65]\tvalidation_0-error:0.00068\tvalidation_0-logloss:0.00359\tvalidation_1-error:0.00081\tvalidation_1-logloss:0.00390\n",
      "[66]\tvalidation_0-error:0.00067\tvalidation_0-logloss:0.00350\tvalidation_1-error:0.00080\tvalidation_1-logloss:0.00383\n",
      "[67]\tvalidation_0-error:0.00067\tvalidation_0-logloss:0.00336\tvalidation_1-error:0.00080\tvalidation_1-logloss:0.00368\n",
      "[68]\tvalidation_0-error:0.00066\tvalidation_0-logloss:0.00328\tvalidation_1-error:0.00080\tvalidation_1-logloss:0.00360\n",
      "[69]\tvalidation_0-error:0.00067\tvalidation_0-logloss:0.00326\tvalidation_1-error:0.00081\tvalidation_1-logloss:0.00358\n"
     ]
    },
    {
     "name": "stdout",
     "output_type": "stream",
     "text": [
      "\n",
      "학습 소요시간: 32.05 초\n",
      "\n",
      "-----------------------------------------\n",
      "\n",
      "■ XGBoost 학습 평가 결과: \n",
      "\n",
      "오차행렬\n",
      " [[436470    121]\n",
      " [   281  61010]]\n",
      "정확도: 1.00\n",
      "\n",
      "■ XGBoost 학습 모델 저장 \n",
      "\n",
      "./model/MD_model.pkl\n"
     ]
    },
    {
     "data": {
      "text/plain": [
       "['./model/MD_model.pkl']"
      ]
     },
     "execution_count": 5,
     "metadata": {},
     "output_type": "execute_result"
    },
    {
     "data": {
      "image/png": "[encoded data removed]",
      "text/plain": [
       "<Figure size 432x288 with 1 Axes>"
      ]
     },
     "metadata": {
      "needs_background": "light"
     },
     "output_type": "display_data"
    },
    {
     "data": {
      "image/png": "[encoded data removed]",
      "text/plain": [
       "<Figure size 432x288 with 1 Axes>"
      ]
     },
     "metadata": {
      "needs_background": "light"
     },
     "output_type": "display_data"
    },
    {
     "data": {
      "image/png": "[encoded data removed]",
      "text/plain": [
       "<Figure size 432x288 with 1 Axes>"
      ]
     },
     "metadata": {
      "needs_background": "light"
     },
     "output_type": "display_data"
    }
   ],
   "source": [
    "df = one_df\n",
    "\n",
    "if dev_id == '...':\n",
    "    X = df.drop(columns=[target, ts])\n",
    "else:\n",
    "    X = df.drop(columns=[target, ts, dev_id])\n",
    "y = df[target]\n",
    "\n",
    "# 학습용 평가용 데이터 분리\n",
    "X_train, X_test, y_train, y_test = train_test_split(X, y, test_size = 0.2)\n",
    "   \n",
    "# XGBoost 모델 적용\n",
    "print(\"-----------------------------------------\")\n",
    "print(\"\\n■ XGBoost 학습 시작: \\n\")\n",
    "\n",
    "start = time.time()\n",
    "\n",
    "########################################################################################\n",
    "# 머신러닝 학습 조건 사용자 설정 (학습 반복횟수, 결정트리 최대 깊이, 평가 메트릭 등)\n",
    "xgb_clf = XGBClassifier(n_estimators=70, max_depth=5, use_label_encoder=False, eval_metric=[\"error\", \"logloss\"])\n",
    "\n",
    "########################################################################################\n",
    "\n",
    "eval_set = [(X_train, y_train), (X_test, y_test)]\n",
    "xgb_clf.fit(X_train, y_train, eval_set=eval_set, verbose=True, eval_metric=[\"error\", \"logloss\"])\n",
    "end = time.time()\n",
    "print('\\n학습 소요시간:' , round(end-start,2), '초\\n')\n",
    "\n",
    "print(\"-----------------------------------------\")\n",
    "print(\"\\n■ XGBoost 학습 평가 결과: \\n\")\n",
    "\n",
    "# 결과 도출하기\n",
    "def get_clf_eval(y_test, pred, xgb_clf):\n",
    "    confusion = confusion_matrix(y_test, pred)\n",
    "    accuracy = accuracy_score(y_test, pred)\n",
    "    print('오차행렬\\n', confusion)\n",
    "    print('정확도: {:.2f}'.format(accuracy))\n",
    "\n",
    "    '''\n",
    "       # 중요도 결과 가시화(그림 저장)\n",
    "    '''\n",
    "    from xgboost.plotting import plot_importance\n",
    "    import matplotlib.pyplot as plt\n",
    "    plot_importance(xgb_clf)\n",
    "    plt.savefig('XGBoost_importance.png', bbox_inches='tight')\n",
    "\n",
    "    '''\n",
    "       # Epoch에 따른 학습 과정 가시화(그림 저장)\n",
    "    '''\n",
    "    from matplotlib import pyplot as plt\n",
    "    results = xgb_clf.evals_result()\n",
    "    epochs = len(results['validation_0']['error'])\n",
    "    x_axis = range(0, epochs)\n",
    "    # plot log loss\n",
    "    fig, ax = plt.subplots()\n",
    "    ax.plot(x_axis, results['validation_0']['logloss'], label='Train')\n",
    "    ax.plot(x_axis, results['validation_1']['logloss'], label='Test')\n",
    "    ax.legend()\n",
    "    plt.ylabel('Log Loss')\n",
    "    plt.title('XGBoost Log Loss')\n",
    "    plt.savefig('XGBoost_Log_Loss.png')\n",
    "    # plot classification error\n",
    "    fig, ax = plt.subplots()\n",
    "    ax.plot(x_axis, results['validation_0']['error'], label='Train')\n",
    "    ax.plot(x_axis, results['validation_1']['error'], label='Test')\n",
    "    ax.legend()\n",
    "    plt.ylabel('Classification Error')\n",
    "    plt.title('XGBoost Classification Error')\n",
    "\n",
    "get_clf_eval(y_test, xgb_clf.predict(X_test), xgb_clf)\n",
    "\n",
    "\n",
    "##################################################################\n",
    "# 학습결과 모델을 pickle 파일로 저장 (디렉토리, 파일명 사용자 설정)\n",
    "directory = './model/'\n",
    "model_filename='MD_model'\n",
    "##################################################################\n",
    "\n",
    "try: \n",
    "    if not os.path.exists(directory): \n",
    "        os.makedirs(directory) \n",
    "except OSError: \n",
    "    print(\"Error: Failed to create the directory.\")\n",
    "print(\"\\n■ XGBoost 학습 모델 저장 \\n\")\n",
    "save_file = directory+model_filename+'.pkl'\n",
    "print(save_file)\n",
    "joblib.dump(xgb_clf, save_file)"
   ]
  }
 ],
 "metadata": {
  "kernelspec": {
   "display_name": "Python 3 (ipykernel)",
   "language": "python",
   "name": "python3"
  },
  "language_info": {
   "codemirror_mode": {
    "name": "ipython",
    "version": 3
   },
   "file_extension": ".py",
   "mimetype": "text/x-python",
   "name": "python",
   "nbconvert_exporter": "python",
   "pygments_lexer": "ipython3",
   "version": "3.8.10"
  }
 },
 "nbformat": 4,
 "nbformat_minor": 5
}
